{
  "cells": [
    {
      "cell_type": "code",
      "execution_count": null,
      "metadata": {
        "colab": {
          "base_uri": "https://localhost:8080/"
        },
        "id": "zKMq7dp2W15Y",
        "outputId": "5a08b936-23e1-45e0-c32f-ebddef7ab36f"
      },
      "outputs": [
        {
          "output_type": "stream",
          "name": "stderr",
          "text": [
            "[nltk_data] Downloading package punkt to /root/nltk_data...\n",
            "[nltk_data]   Package punkt is already up-to-date!\n"
          ]
        },
        {
          "output_type": "execute_result",
          "data": {
            "text/plain": [
              "True"
            ]
          },
          "metadata": {},
          "execution_count": 77
        }
      ],
      "source": [
        "import nltk\n",
        "import pandas as pd\n",
        "import plotly.express as px\n",
        "import torch\n",
        "import torch.nn as nn\n",
        "from sklearn.model_selection import train_test_split\n",
        "from sklearn.preprocessing import LabelEncoder\n",
        "from torch.utils.data import Dataset, DataLoader\n",
        "import matplotlib.pyplot as plt\n",
        "\n",
        "nltk.download('punkt')"
      ]
    },
    {
      "cell_type": "markdown",
      "metadata": {
        "id": "Jm-QilGISxkt"
      },
      "source": [
        "## 1. Классификация фамилий (RNN)\n",
        "\n",
        "Датасет: https://disk.yandex.ru/d/frNchuaBQVLxyA?w=1"
      ]
    },
    {
      "cell_type": "markdown",
      "metadata": {
        "id": "YdPr92i6k-If"
      },
      "source": [
        "1.1 Используя класс `nn.RNNCell` (абстракцию для отдельного временного шага RNN), реализуйте простейшую рекуррентную сеть Элмана в виде класса `RNN`. Используя созданный класс `RNN`, решите задачу классификации фамилий.\n"
      ]
    },
    {
      "cell_type": "code",
      "execution_count": null,
      "metadata": {
        "id": "ir6UUkl6l4tp"
      },
      "outputs": [],
      "source": [
        "class RNN(nn.Module):\n",
        "    def __init__(self, input_size, hidden_size):\n",
        "        super().__init__()\n",
        "        self.rnn_cell = nn.RNNCell(input_size, hidden_size)\n",
        "        self.hidden_size = hidden_size\n",
        "        self.input_size = input_size\n",
        "\n",
        "    def forward(self, x, h=None):\n",
        "        batch_size, seq_size, emb_size = x.shape\n",
        "        # инициализация тензора скрытых состояний\n",
        "        if h is None:\n",
        "            h = torch.zeros(batch_size, self.hidden_size).to(device=x.device)\n",
        "        # проход по каждому элементу последовательностей s в батче и обновление скрытого состояния\n",
        "        out = torch.zeros(batch_size, seq_size, self.hidden_size)\n",
        "        for t in range(seq_size):\n",
        "            h = self.rnn_cell(x[:, t, :], h)\n",
        "            out[:, t] = h\n",
        "\n",
        "        # вернуть тензор всех наблюдавшихся скрытых состояний размера (batch_size, seq_len, hidden_size) и тензор скрытых состояний в последний момент времени\n",
        "        return out, h"
      ]
    },
    {
      "cell_type": "code",
      "execution_count": null,
      "metadata": {
        "id": "cMn3GkKojwih",
        "colab": {
          "base_uri": "https://localhost:8080/"
        },
        "outputId": "93cf2699-b195-417a-8187-b9b9c692e9af"
      },
      "outputs": [
        {
          "output_type": "stream",
          "name": "stdout",
          "text": [
            "torch.Size([5, 5, 10])\n",
            "tensor([[[0.1581, 0.3920, 0.8430],\n",
            "         [0.1199, 0.5280, 0.8340],\n",
            "         [0.1026, 0.4763, 0.8084]]])\n",
            "torch.Size([5, 10])\n"
          ]
        }
      ],
      "source": [
        "batch_size, seq_len, embedding_size, hidden_size = 5, 5, 7, 10\n",
        "test = torch.rand(batch_size, seq_len, embedding_size)\n",
        "rnn = RNN(embedding_size, hidden_size)\n",
        "with torch.no_grad():\n",
        "    t = rnn(test)\n",
        "    print(t[0].shape, t[0][:1, :3, :3], t[1].shape, sep='\\n')"
      ]
    },
    {
      "cell_type": "code",
      "execution_count": null,
      "metadata": {
        "id": "8r2GiCx7kCBM"
      },
      "outputs": [],
      "source": [
        "train_surnames = pd.read_csv('surnames.csv')\n",
        "class_encoder = LabelEncoder()\n",
        "train_surnames['nationality'] = class_encoder.fit_transform(train_surnames['nationality'])\n",
        "\n",
        "surname = train_surnames['surname'].str.lower()\n",
        "nat = train_surnames['nationality']\n",
        "n_classes = nat.nunique()\n",
        "\n",
        "x_train, x_test, y_train, y_test = train_test_split(surname, nat, test_size=0.2, random_state=1)"
      ]
    },
    {
      "cell_type": "code",
      "execution_count": null,
      "metadata": {
        "colab": {
          "base_uri": "https://localhost:8080/"
        },
        "id": "yBmt4JDcmroA",
        "outputId": "bbae1cbf-df97-4670-b3d0-c23b875875b8"
      },
      "outputs": [
        {
          "output_type": "stream",
          "name": "stdout",
          "text": [
            "18\n"
          ]
        }
      ],
      "source": [
        "print(n_classes)"
      ]
    },
    {
      "cell_type": "code",
      "execution_count": null,
      "metadata": {
        "id": "qt5N16ZfmxuP"
      },
      "outputs": [],
      "source": [
        "class Vocab:\n",
        "    def __init__(self, data):\n",
        "        tokens = set()\n",
        "        self.max_seq_len = 0\n",
        "        for item in data:\n",
        "            tokens.update(item)\n",
        "            self.max_seq_len = max(self.max_seq_len, len(item))\n",
        "        self.unk_token = '<UNK>'\n",
        "        self.pad_token = '<PAD>'\n",
        "        self.idx_to_token = dict(enumerate(tokens, 2))\n",
        "        self.idx_to_token[1] = self.unk_token\n",
        "        self.idx_to_token[0] = self.pad_token\n",
        "        self.token_to_idx = {token: idx for idx, token in self.idx_to_token.items()}\n",
        "        self.vocab_len = len(self.idx_to_token)\n",
        "\n",
        "\n",
        "class SurnamesDataset(Dataset):\n",
        "    def __init__(self, surname, nat, vocab):\n",
        "        self.surname = surname\n",
        "        self.nat = nat\n",
        "        self.vocab = vocab\n",
        "\n",
        "    def to_sequence(self, surname):\n",
        "        tok_seq = [self.vocab.token_to_idx[tok] for tok in surname]\n",
        "        padds_len = self.vocab.max_seq_len - len(tok_seq)\n",
        "        pad_idx = self.vocab.token_to_idx[self.vocab.pad_token]\n",
        "        padds = [pad_idx] * padds_len\n",
        "        return torch.LongTensor(tok_seq + padds)\n",
        "\n",
        "    def __len__(self):\n",
        "        return len(self.surname)\n",
        "\n",
        "    def __getitem__(self, idx):\n",
        "        return self.to_sequence(self.surname.iloc[idx]), self.nat.iloc[idx]\n"
      ]
    },
    {
      "cell_type": "code",
      "execution_count": null,
      "metadata": {
        "id": "yaSHtEtitnWC"
      },
      "outputs": [],
      "source": [
        "vocab = Vocab(surname)\n",
        "train_dataset = SurnamesDataset(x_train, y_train, vocab)\n",
        "test_dataset = SurnamesDataset(x_test, y_test, vocab)\n",
        "train_loader = DataLoader(train_dataset, batch_size=128, shuffle=True)\n",
        "test_loader = DataLoader(test_dataset, batch_size=128, shuffle=True)"
      ]
    },
    {
      "cell_type": "code",
      "execution_count": null,
      "metadata": {
        "id": "9Ijj4UtgvIx_"
      },
      "outputs": [],
      "source": [
        "class RNNClassifierCustomRNN(nn.Module):\n",
        "    def __init__(self, vocab_len, embedding_size, rnn_hidden_size, num_classes):\n",
        "        super().__init__()\n",
        "        self.embedding = nn.Embedding(vocab_len, embedding_size, padding_idx=0)\n",
        "        self.rnn = RNN(embedding_size, rnn_hidden_size)\n",
        "        self.classifier = nn.Sequential(nn.Linear(rnn_hidden_size, rnn_hidden_size),\n",
        "                                        nn.ReLU(),\n",
        "                                        nn.Dropout(0.5),\n",
        "                                        nn.Linear(rnn_hidden_size, num_classes))\n",
        "        self.dropout = nn.Dropout(0.5)\n",
        "\n",
        "    def forward(self, surname):\n",
        "        out = self.embedding(surname)  # batch x seq x emb\n",
        "        out = self.rnn(out)[1]  # batch x rnn_hidden\n",
        "        out = self.dropout(out)  # batch x rnn_hidden\n",
        "        out = self.classifier(out)  # batch x num_classes\n",
        "        return out\n"
      ]
    },
    {
      "cell_type": "code",
      "execution_count": null,
      "metadata": {
        "colab": {
          "base_uri": "https://localhost:8080/"
        },
        "id": "q67WjeQ44gzy",
        "outputId": "a85cd232-e67f-4aa2-b704-4802ffdb1700"
      },
      "outputs": [
        {
          "output_type": "stream",
          "name": "stdout",
          "text": [
            "EPOCH:   1 \t LOSS: 2.4928 \t VAL LOSS: 2.3599\n",
            "EPOCH:   3 \t LOSS: 2.1803 \t VAL LOSS: 2.0894\n",
            "EPOCH:   5 \t LOSS: 1.9362 \t VAL LOSS: 1.9314\n",
            "EPOCH:   7 \t LOSS: 1.7594 \t VAL LOSS: 1.7233\n",
            "EPOCH:   9 \t LOSS: 1.6454 \t VAL LOSS: 1.6239\n",
            "EPOCH:  11 \t LOSS: 1.5872 \t VAL LOSS: 1.5569\n",
            "EPOCH:  13 \t LOSS: 1.5031 \t VAL LOSS: 1.5121\n",
            "EPOCH:  15 \t LOSS: 1.4651 \t VAL LOSS: 1.5040\n",
            "EPOCH:  17 \t LOSS: 1.4268 \t VAL LOSS: 1.4481\n",
            "EPOCH:  19 \t LOSS: 1.4027 \t VAL LOSS: 1.4936\n"
          ]
        }
      ],
      "source": [
        "model = RNNClassifierCustomRNN(\n",
        "    vocab_len=vocab.vocab_len,\n",
        "    embedding_size=128,\n",
        "    rnn_hidden_size=64,\n",
        "    num_classes=n_classes\n",
        ")\n",
        "\n",
        "\n",
        "def train(_model: torch.nn.Module, path: str = 'surname_model.pt'):\n",
        "    optimizer = torch.optim.Adam(_model.parameters(), weight_decay=0.001)\n",
        "    loss = torch.nn.CrossEntropyLoss()\n",
        "    loss_log = []\n",
        "    loss_log_val = []\n",
        "    min_val_loss = 10 ** 10\n",
        "\n",
        "    for i in range(20):\n",
        "        epoch_loss = 0\n",
        "        epoch_loss_val = 0\n",
        "\n",
        "        j, k = 1, 1  # Делители running losses\n",
        "\n",
        "        _model.train()\n",
        "        for j, (batch_x, batch_y) in enumerate(train_loader):\n",
        "            y_pred = _model(batch_x)\n",
        "            running_loss = loss(y_pred, batch_y)\n",
        "            epoch_loss += running_loss.item()\n",
        "\n",
        "            running_loss.backward()\n",
        "            optimizer.step()\n",
        "            optimizer.zero_grad()\n",
        "\n",
        "        _model.eval()\n",
        "        for k, (batch_x, batch_y) in enumerate(test_loader):\n",
        "            y_pred = _model(batch_x)\n",
        "            running_loss = loss(y_pred, batch_y)\n",
        "            epoch_loss_val += running_loss.item()\n",
        "\n",
        "        epoch_loss /= j\n",
        "        epoch_loss_val /= k\n",
        "\n",
        "        if epoch_loss_val < min_val_loss:\n",
        "            torch.save(_model.state_dict(), path)\n",
        "\n",
        "        if i % 2 == 0:\n",
        "            print(f'EPOCH: {i + 1:3d} \\t LOSS: {epoch_loss:0.4f} \\t VAL LOSS: {epoch_loss_val:0.4f}')\n",
        "\n",
        "        loss_log.append(epoch_loss)\n",
        "        loss_log_val.append(epoch_loss_val)\n",
        "\n",
        "    _model.load_state_dict(torch.load(path))\n",
        "    return _model, loss_log, loss_log_val\n",
        "\n",
        "\n",
        "model, loss_log, loss_log_val = train(model)"
      ]
    },
    {
      "cell_type": "code",
      "source": [
        "pd.DataFrame({'train loss': loss_log_lstm, 'val loss': loss_log_val_lstm}).plot()"
      ],
      "metadata": {
        "colab": {
          "base_uri": "https://localhost:8080/",
          "height": 447
        },
        "id": "PpeX1oS1MoRm",
        "outputId": "3dc53778-ec5a-43e1-fccf-cc70c63fa355"
      },
      "execution_count": null,
      "outputs": [
        {
          "output_type": "execute_result",
          "data": {
            "text/plain": [
              "<Axes: >"
            ]
          },
          "metadata": {},
          "execution_count": 95
        },
        {
          "output_type": "display_data",
          "data": {
            "text/plain": [
              "<Figure size 640x480 with 1 Axes>"
            ],
            "image/png": "[encoded data removed]"
          },
          "metadata": {}
        }
      ]
    },
    {
      "cell_type": "code",
      "execution_count": null,
      "metadata": {
        "colab": {
          "base_uri": "https://localhost:8080/"
        },
        "id": "Ih1ua8Ky4gzz",
        "outputId": "f4042320-4900-418b-a8d5-2511b995664c"
      },
      "outputs": [
        {
          "output_type": "stream",
          "name": "stdout",
          "text": [
            "TEST ACCURACY: 0.6321\n"
          ]
        }
      ],
      "source": [
        "right_answers = 0\n",
        "for batch_x, batch_y in DataLoader(test_dataset, batch_size=32):\n",
        "    predictions = model(batch_x).argmax(dim=1)\n",
        "    right_answers += (torch.eq(batch_y, predictions)).sum()\n",
        "\n",
        "print(f'TEST ACCURACY: {right_answers / len(test_dataset):0.4f}')"
      ]
    },
    {
      "cell_type": "markdown",
      "metadata": {
        "id": "a2MIErKTo9aO"
      },
      "source": [
        "|1.2 Замените модуль `RNN` из 1.1 на модули `nn.RNN`, `nn.LSTM` и `nn.GRU` (не забудьте указать аргумент `batch_first=True`). Сравните результаты работы."
      ]
    },
    {
      "cell_type": "code",
      "execution_count": null,
      "metadata": {
        "colab": {
          "base_uri": "https://localhost:8080/",
          "height": 621
        },
        "id": "X_duE_eg4gzz",
        "outputId": "49954119-48fa-4317-f9db-45815587bbcd"
      },
      "outputs": [
        {
          "output_type": "stream",
          "name": "stdout",
          "text": [
            "EPOCH:   1 \t LOSS: 2.5115 \t VAL LOSS: 2.3765\n",
            "EPOCH:   3 \t LOSS: 2.1941 \t VAL LOSS: 2.0967\n",
            "EPOCH:   5 \t LOSS: 1.8676 \t VAL LOSS: 1.8536\n",
            "EPOCH:   7 \t LOSS: 1.6943 \t VAL LOSS: 1.6879\n",
            "EPOCH:   9 \t LOSS: 1.5864 \t VAL LOSS: 1.6562\n",
            "EPOCH:  11 \t LOSS: 1.5222 \t VAL LOSS: 1.5016\n",
            "EPOCH:  13 \t LOSS: 1.4885 \t VAL LOSS: 1.4957\n",
            "EPOCH:  15 \t LOSS: 1.4218 \t VAL LOSS: 1.4386\n",
            "EPOCH:  17 \t LOSS: 1.3719 \t VAL LOSS: 1.4013\n",
            "EPOCH:  19 \t LOSS: 1.3561 \t VAL LOSS: 1.3827\n",
            "TEST ACCURACY: 0.6562\n"
          ]
        },
        {
          "output_type": "display_data",
          "data": {
            "text/plain": [
              "<Figure size 640x480 with 1 Axes>"
            ],
            "image/png": "[encoded data removed]"
          },
          "metadata": {}
        }
      ],
      "source": [
        "class RNNClassifier(nn.Module):\n",
        "    def __init__(self, vocab_len, embedding_size, rnn_hidden_size, num_classes):\n",
        "        super().__init__()\n",
        "        self.embedding = nn.Embedding(vocab_len, embedding_size, padding_idx=0)\n",
        "        self.rnn = torch.nn.RNN(embedding_size, rnn_hidden_size, batch_first=True)\n",
        "        self.classifier = nn.Sequential(nn.Linear(rnn_hidden_size, rnn_hidden_size),\n",
        "                                        nn.ReLU(),\n",
        "                                        nn.Dropout(0.5),\n",
        "                                        nn.Linear(rnn_hidden_size, num_classes))\n",
        "        self.dropout = nn.Dropout(0.5)\n",
        "\n",
        "    def forward(self, surname):\n",
        "        out = self.embedding(surname)  # batch x seq x emb\n",
        "\n",
        "        out = self.rnn(out)[1].squeeze(0)  # batch x rnn_hidden\n",
        "\n",
        "        out = self.dropout(out)  # batch x rnn_hidden\n",
        "        out = self.classifier(out)  # batch x num_classes\n",
        "        return out\n",
        "\n",
        "\n",
        "model = RNNClassifier(\n",
        "    vocab_len=vocab.vocab_len,\n",
        "    embedding_size=128,\n",
        "    rnn_hidden_size=64,\n",
        "    num_classes=n_classes\n",
        ")\n",
        "\n",
        "model, loss_log_rnn, loss_log_val_rnn = train(model)\n",
        "pd.DataFrame({'train loss': loss_log_rnn, 'val loss': loss_log_val_rnn}).plot()\n",
        "\n",
        "right_answers = 0\n",
        "for batch_x, batch_y in DataLoader(test_dataset, batch_size=32):\n",
        "    predictions = model(batch_x).argmax(dim=1)\n",
        "    right_answers += (torch.eq(batch_y, predictions)).sum()\n",
        "\n",
        "print(f'TEST ACCURACY: {right_answers / len(test_dataset):0.4f}')"
      ]
    },
    {
      "cell_type": "code",
      "execution_count": null,
      "metadata": {
        "colab": {
          "base_uri": "https://localhost:8080/"
        },
        "id": "D-4UjnWp4gzz",
        "outputId": "5d9c66c3-f47b-41d7-e306-0dea7aa96cb0"
      },
      "outputs": [
        {
          "output_type": "stream",
          "name": "stdout",
          "text": [
            "EPOCH:   1 \t LOSS: 2.5346 \t VAL LOSS: 2.3625\n",
            "EPOCH:   3 \t LOSS: 2.0884 \t VAL LOSS: 2.0605\n",
            "EPOCH:   5 \t LOSS: 1.7963 \t VAL LOSS: 1.7728\n",
            "EPOCH:   7 \t LOSS: 1.6150 \t VAL LOSS: 1.6263\n",
            "EPOCH:   9 \t LOSS: 1.4805 \t VAL LOSS: 1.4322\n",
            "EPOCH:  11 \t LOSS: 1.3862 \t VAL LOSS: 1.3459\n",
            "EPOCH:  13 \t LOSS: 1.3260 \t VAL LOSS: 1.3654\n",
            "EPOCH:  15 \t LOSS: 1.2500 \t VAL LOSS: 1.2825\n",
            "EPOCH:  17 \t LOSS: 1.1952 \t VAL LOSS: 1.2185\n",
            "EPOCH:  19 \t LOSS: 1.1858 \t VAL LOSS: 1.2143\n",
            "TEST ACCURACY: 0.6853\n"
          ]
        }
      ],
      "source": [
        "class LSTMClassifier(nn.Module):\n",
        "    def __init__(self, vocab_len, embedding_size, rnn_hidden_size, num_classes):\n",
        "        super().__init__()\n",
        "        self.embedding = nn.Embedding(vocab_len, embedding_size, padding_idx=0)\n",
        "        self.lstm = torch.nn.LSTM(embedding_size, rnn_hidden_size, batch_first=True)\n",
        "        self.classifier = nn.Sequential(nn.Linear(rnn_hidden_size, rnn_hidden_size),\n",
        "                                        nn.ReLU(),\n",
        "                                        nn.Dropout(0.5),\n",
        "                                        nn.Linear(rnn_hidden_size, num_classes))\n",
        "        self.dropout = nn.Dropout(0.5)\n",
        "\n",
        "    def forward(self, surname):\n",
        "        out = self.embedding(surname)  # batch x seq x emb\n",
        "\n",
        "        out = self.lstm(out)[1][0].squeeze(0)  # batch x rnn_hidden\n",
        "\n",
        "        out = self.dropout(out)  # batch x rnn_hidden\n",
        "        out = self.classifier(out)  # batch x num_classes\n",
        "        return out\n",
        "\n",
        "\n",
        "model = LSTMClassifier(\n",
        "    vocab_len=vocab.vocab_len,\n",
        "    embedding_size=128,\n",
        "    rnn_hidden_size=64,\n",
        "    num_classes=n_classes\n",
        ")\n",
        "\n",
        "model, loss_log_lstm, loss_log_val_lstm = train(model)\n",
        "\n",
        "right_answers = 0\n",
        "for batch_x, batch_y in DataLoader(test_dataset, batch_size=32):\n",
        "    predictions = model(batch_x).argmax(dim=1)\n",
        "    right_answers += (torch.eq(batch_y, predictions)).sum()\n",
        "\n",
        "print(f'TEST ACCURACY: {right_answers / len(test_dataset):0.4f}')"
      ]
    },
    {
      "cell_type": "code",
      "source": [
        "pd.DataFrame({'train loss': loss_log_lstm, 'val loss': loss_log_val_lstm}).plot()"
      ],
      "metadata": {
        "colab": {
          "base_uri": "https://localhost:8080/",
          "height": 451
        },
        "id": "APVJWPxIEzhz",
        "outputId": "578c5a6d-6366-4b2c-ba73-2a3a925e2595"
      },
      "execution_count": null,
      "outputs": [
        {
          "output_type": "execute_result",
          "data": {
            "text/plain": [
              "<Axes: >"
            ]
          },
          "metadata": {},
          "execution_count": 90
        },
        {
          "output_type": "display_data",
          "data": {
            "text/plain": [
              "<Figure size 640x480 with 1 Axes>"
            ],
            "image/png": "[encoded data removed]"
          },
          "metadata": {}
        }
      ]
    },
    {
      "cell_type": "code",
      "execution_count": null,
      "metadata": {
        "colab": {
          "base_uri": "https://localhost:8080/",
          "height": 451
        },
        "id": "KVcN19Zs4gzz",
        "outputId": "ea9c9a05-ba22-4e2e-df22-ceff3e71d115"
      },
      "outputs": [
        {
          "output_type": "execute_result",
          "data": {
            "text/plain": [
              "<Axes: >"
            ]
          },
          "metadata": {},
          "execution_count": 91
        },
        {
          "output_type": "display_data",
          "data": {
            "text/plain": [
              "<Figure size 640x480 with 1 Axes>"
            ],
            "image/png": "[encoded data removed]"
          },
          "metadata": {}
        }
      ],
      "source": [
        "pd.DataFrame(\n",
        "        {\n",
        "            'train loss lstm': loss_log_lstm,\n",
        "            'val loss lstm': loss_log_val_lstm,\n",
        "            'train loss rnn': loss_log_rnn,\n",
        "            'val loss rnn': loss_log_val_rnn,\n",
        "            'train loss': loss_log,\n",
        "            'val loss': loss_log_val\n",
        "        }\n",
        "    ).plot()\n"
      ]
    },
    {
      "cell_type": "markdown",
      "metadata": {
        "id": "_6YBam_3t-fO"
      },
      "source": [
        "1.3 Загрузите предобученные эмбеддинги (https://disk.yandex.ru/d/BHuT2tEXr_yBOQ?w=1) в модуль `nn.Embedding` и обучите модели из 1.2."
      ]
    },
    {
      "cell_type": "code",
      "execution_count": null,
      "metadata": {
        "colab": {
          "base_uri": "https://localhost:8080/",
          "height": 621
        },
        "id": "lfbRScrg4gz0",
        "outputId": "09b78f29-5c72-44c3-e685-d33f7fe34043"
      },
      "outputs": [
        {
          "output_type": "stream",
          "name": "stdout",
          "text": [
            "EPOCH:   1 \t LOSS: 2.5296 \t VAL LOSS: 2.3629\n",
            "EPOCH:   3 \t LOSS: 2.0701 \t VAL LOSS: 2.0404\n",
            "EPOCH:   5 \t LOSS: 1.7939 \t VAL LOSS: 1.7539\n",
            "EPOCH:   7 \t LOSS: 1.6040 \t VAL LOSS: 1.5464\n",
            "EPOCH:   9 \t LOSS: 1.4532 \t VAL LOSS: 1.4922\n",
            "EPOCH:  11 \t LOSS: 1.3611 \t VAL LOSS: 1.4036\n",
            "EPOCH:  13 \t LOSS: 1.2921 \t VAL LOSS: 1.3400\n",
            "EPOCH:  15 \t LOSS: 1.2264 \t VAL LOSS: 1.2678\n",
            "EPOCH:  17 \t LOSS: 1.1869 \t VAL LOSS: 1.2406\n",
            "EPOCH:  19 \t LOSS: 1.1428 \t VAL LOSS: 1.1893\n",
            "TEST ACCURACY: 0.6767\n"
          ]
        },
        {
          "output_type": "display_data",
          "data": {
            "text/plain": [
              "<Figure size 640x480 with 1 Axes>"
            ],
            "image/png": "[encoded data removed]"
          },
          "metadata": {}
        }
      ],
      "source": [
        "with open('globe_100_rows.txt') as file:\n",
        "    weights = file.readlines()\n",
        "    weights = list(map(str.split, weights))\n",
        "    weights = {i[0]: torch.tensor(list(map(float, i[1:]))) for i in weights}\n",
        "\n",
        "model = LSTMClassifier(\n",
        "    vocab_len=vocab.vocab_len,\n",
        "    embedding_size=128,\n",
        "    rnn_hidden_size=64,\n",
        "    num_classes=n_classes\n",
        ")\n",
        "\n",
        "for token, value in weights.items():\n",
        "    try:\n",
        "        model.embedding.weight[vocab.token_to_idx[token]] = value\n",
        "    except Exception:\n",
        "        pass\n",
        "\n",
        "model, loss_log_lstm, loss_log_val_lstm = train(model)\n",
        "pd.DataFrame({'train loss': loss_log_lstm, 'val loss': loss_log_val_lstm}).plot()\n",
        "\n",
        "right_answers = 0\n",
        "for batch_x, batch_y in DataLoader(test_dataset, batch_size=32):\n",
        "    predictions = model(batch_x).argmax(dim=1)\n",
        "    right_answers += (torch.eq(batch_y, predictions)).sum()\n",
        "\n",
        "print(f'TEST ACCURACY: {right_answers / len(test_dataset):0.4f}')"
      ]
    },
    {
      "cell_type": "markdown",
      "metadata": {
        "id": "f7kf990U9Do-"
      },
      "source": [
        "## 2. Классификация обзоров на фильмы (RNN)\n",
        "\n",
        "Датасет: https://disk.yandex.ru/d/tdinpb0nN_Dsrg\n",
        "\n",
        "2.1 Создайте набор данных на основе файлов polarity/positive_reviews.csv (положительные отзывы) и polarity/negative_reviews.csv (отрицательные отзывы). Разбейте на обучающую и тестовую выборку.\n",
        "  * токен = __слово__\n",
        "  * данные для обучения в датасете представляются в виде последовательности индексов токенов\n",
        "  * словарь создается на основе _только_ обучающей выборки. Для корректной обработки ситуаций, когда в тестовой выборке встретится токен, который не хранится в словаре, добавьте в словарь специальный токен `<UNK>`\n",
        "  * добавьте предобработку текста\n",
        "\n",
        "2.2. Обучите классификатор.\n",
        "  \n",
        "  * Для преобразования последовательности индексов в последовательность векторов используйте `nn.Embedding`\n",
        "    - подберите адекватную размерность вектора эмбеддинга:\n",
        "    - модуль `nn.Embedding` обучается\n",
        "\n",
        "  * Используйте рекуррентные слои (`nn.RNN`, `nn.LSTM`, `nn.GRU`)\n",
        "\n",
        "\n",
        "2.3 Измерить точность на тестовой выборке. Проверить работоспособность модели: придумать небольшой отзыв, прогнать его через модель и вывести номер предсказанного класса (сделать это для явно позитивного и явно негативного отзыва)\n",
        "* Целевое значение accuracy на валидации - 70+%"
      ]
    },
    {
      "cell_type": "code",
      "execution_count": null,
      "metadata": {
        "colab": {
          "base_uri": "https://localhost:8080/",
          "height": 206
        },
        "id": "RsyOS_Yf4gz0",
        "outputId": "77f02cb1-39b6-40d1-f0d5-666bb1331bd4"
      },
      "outputs": [
        {
          "output_type": "execute_result",
          "data": {
            "text/plain": [
              "                                                 review  positive\n",
              "3975  beautiful , cold , oddly colorful and just pla...         0\n",
              "4727  the film is delicately narrated by martin land...         0\n",
              "2104  an earnest , heartrending look at the divide b...         1\n",
              "3255    suffers from a flat script and a low budget .\\n         1\n",
              "1243  the ch�teau would have been benefited from a s...         1"
            ],
            "text/html": [
              "\n",
              "  <div id=\"df-e26b8b8c-dfc7-4f7a-87d5-e427d07595ef\" class=\"colab-df-container\">\n",
              "    <div>\n",
              "<style scoped>\n",
              "    .dataframe tbody tr th:only-of-type {\n",
              "        vertical-align: middle;\n",
              "    }\n",
              "\n",
              "    .dataframe tbody tr th {\n",
              "        vertical-align: top;\n",
              "    }\n",
              "\n",
              "    .dataframe thead th {\n",
              "        text-align: right;\n",
              "    }\n",
              "</style>\n",
              "<table border=\"1\" class=\"dataframe\">\n",
              "  <thead>\n",
              "    <tr style=\"text-align: right;\">\n",
              "      <th></th>\n",
              "      <th>review</th>\n",
              "      <th>positive</th>\n",
              "    </tr>\n",
              "  </thead>\n",
              "  <tbody>\n",
              "    <tr>\n",
              "      <th>3975</th>\n",
              "      <td>beautiful , cold , oddly colorful and just pla...</td>\n",
              "      <td>0</td>\n",
              "    </tr>\n",
              "    <tr>\n",
              "      <th>4727</th>\n",
              "      <td>the film is delicately narrated by martin land...</td>\n",
              "      <td>0</td>\n",
              "    </tr>\n",
              "    <tr>\n",
              "      <th>2104</th>\n",
              "      <td>an earnest , heartrending look at the divide b...</td>\n",
              "      <td>1</td>\n",
              "    </tr>\n",
              "    <tr>\n",
              "      <th>3255</th>\n",
              "      <td>suffers from a flat script and a low budget .\\n</td>\n",
              "      <td>1</td>\n",
              "    </tr>\n",
              "    <tr>\n",
              "      <th>1243</th>\n",
              "      <td>the ch�teau would have been benefited from a s...</td>\n",
              "      <td>1</td>\n",
              "    </tr>\n",
              "  </tbody>\n",
              "</table>\n",
              "</div>\n",
              "    <div class=\"colab-df-buttons\">\n",
              "\n",
              "  <div class=\"colab-df-container\">\n",
              "    <button class=\"colab-df-convert\" onclick=\"convertToInteractive('df-e26b8b8c-dfc7-4f7a-87d5-e427d07595ef')\"\n",
              "            title=\"Convert this dataframe to an interactive table.\"\n",
              "            style=\"display:none;\">\n",
              "\n",
              "  <svg xmlns=\"http://www.w3.org/2000/svg\" height=\"24px\" viewBox=\"0 -960 960 960\">\n",
              "    <path d=\"M120-120v-720h720v720H120Zm60-500h600v-160H180v160Zm220 220h160v-160H400v160Zm0 220h160v-160H400v160ZM180-400h160v-160H180v160Zm440 0h160v-160H620v160ZM180-180h160v-160H180v160Zm440 0h160v-160H620v160Z\"/>\n",
              "  </svg>\n",
              "    </button>\n",
              "\n",
              "  <style>\n",
              "    .colab-df-container {\n",
              "      display:flex;\n",
              "      gap: 12px;\n",
              "    }\n",
              "\n",
              "    .colab-df-convert {\n",
              "      background-color: #E8F0FE;\n",
              "      border: none;\n",
              "      border-radius: 50%;\n",
              "      cursor: pointer;\n",
              "      display: none;\n",
              "      fill: #1967D2;\n",
              "      height: 32px;\n",
              "      padding: 0 0 0 0;\n",
              "      width: 32px;\n",
              "    }\n",
              "\n",
              "    .colab-df-convert:hover {\n",
              "      background-color: #E2EBFA;\n",
              "      box-shadow: 0px 1px 2px rgba(60, 64, 67, 0.3), 0px 1px 3px 1px rgba(60, 64, 67, 0.15);\n",
              "      fill: #174EA6;\n",
              "    }\n",
              "\n",
              "    .colab-df-buttons div {\n",
              "      margin-bottom: 4px;\n",
              "    }\n",
              "\n",
              "    [theme=dark] .colab-df-convert {\n",
              "      background-color: #3B4455;\n",
              "      fill: #D2E3FC;\n",
              "    }\n",
              "\n",
              "    [theme=dark] .colab-df-convert:hover {\n",
              "      background-color: #434B5C;\n",
              "      box-shadow: 0px 1px 3px 1px rgba(0, 0, 0, 0.15);\n",
              "      filter: drop-shadow(0px 1px 2px rgba(0, 0, 0, 0.3));\n",
              "      fill: #FFFFFF;\n",
              "    }\n",
              "  </style>\n",
              "\n",
              "    <script>\n",
              "      const buttonEl =\n",
              "        document.querySelector('#df-e26b8b8c-dfc7-4f7a-87d5-e427d07595ef button.colab-df-convert');\n",
              "      buttonEl.style.display =\n",
              "        google.colab.kernel.accessAllowed ? 'block' : 'none';\n",
              "\n",
              "      async function convertToInteractive(key) {\n",
              "        const element = document.querySelector('#df-e26b8b8c-dfc7-4f7a-87d5-e427d07595ef');\n",
              "        const dataTable =\n",
              "          await google.colab.kernel.invokeFunction('convertToInteractive',\n",
              "                                                    [key], {});\n",
              "        if (!dataTable) return;\n",
              "\n",
              "        const docLinkHtml = 'Like what you see? Visit the ' +\n",
              "          '<a target=\"_blank\" href=https://colab.research.google.com/notebooks/data_table.ipynb>data table notebook</a>'\n",
              "          + ' to learn more about interactive tables.';\n",
              "        element.innerHTML = '';\n",
              "        dataTable['output_type'] = 'display_data';\n",
              "        await google.colab.output.renderOutput(dataTable, element);\n",
              "        const docLink = document.createElement('div');\n",
              "        docLink.innerHTML = docLinkHtml;\n",
              "        element.appendChild(docLink);\n",
              "      }\n",
              "    </script>\n",
              "  </div>\n",
              "\n",
              "\n",
              "<div id=\"df-098ed470-f9de-47d5-ba2c-1fd1d242f489\">\n",
              "  <button class=\"colab-df-quickchart\" onclick=\"quickchart('df-098ed470-f9de-47d5-ba2c-1fd1d242f489')\"\n",
              "            title=\"Suggest charts\"\n",
              "            style=\"display:none;\">\n",
              "\n",
              "<svg xmlns=\"http://www.w3.org/2000/svg\" height=\"24px\"viewBox=\"0 0 24 24\"\n",
              "     width=\"24px\">\n",
              "    <g>\n",
              "        <path d=\"M19 3H5c-1.1 0-2 .9-2 2v14c0 1.1.9 2 2 2h14c1.1 0 2-.9 2-2V5c0-1.1-.9-2-2-2zM9 17H7v-7h2v7zm4 0h-2V7h2v10zm4 0h-2v-4h2v4z\"/>\n",
              "    </g>\n",
              "</svg>\n",
              "  </button>\n",
              "\n",
              "<style>\n",
              "  .colab-df-quickchart {\n",
              "      --bg-color: #E8F0FE;\n",
              "      --fill-color: #1967D2;\n",
              "      --hover-bg-color: #E2EBFA;\n",
              "      --hover-fill-color: #174EA6;\n",
              "      --disabled-fill-color: #AAA;\n",
              "      --disabled-bg-color: #DDD;\n",
              "  }\n",
              "\n",
              "  [theme=dark] .colab-df-quickchart {\n",
              "      --bg-color: #3B4455;\n",
              "      --fill-color: #D2E3FC;\n",
              "      --hover-bg-color: #434B5C;\n",
              "      --hover-fill-color: #FFFFFF;\n",
              "      --disabled-bg-color: #3B4455;\n",
              "      --disabled-fill-color: #666;\n",
              "  }\n",
              "\n",
              "  .colab-df-quickchart {\n",
              "    background-color: var(--bg-color);\n",
              "    border: none;\n",
              "    border-radius: 50%;\n",
              "    cursor: pointer;\n",
              "    display: none;\n",
              "    fill: var(--fill-color);\n",
              "    height: 32px;\n",
              "    padding: 0;\n",
              "    width: 32px;\n",
              "  }\n",
              "\n",
              "  .colab-df-quickchart:hover {\n",
              "    background-color: var(--hover-bg-color);\n",
              "    box-shadow: 0 1px 2px rgba(60, 64, 67, 0.3), 0 1px 3px 1px rgba(60, 64, 67, 0.15);\n",
              "    fill: var(--button-hover-fill-color);\n",
              "  }\n",
              "\n",
              "  .colab-df-quickchart-complete:disabled,\n",
              "  .colab-df-quickchart-complete:disabled:hover {\n",
              "    background-color: var(--disabled-bg-color);\n",
              "    fill: var(--disabled-fill-color);\n",
              "    box-shadow: none;\n",
              "  }\n",
              "\n",
              "  .colab-df-spinner {\n",
              "    border: 2px solid var(--fill-color);\n",
              "    border-color: transparent;\n",
              "    border-bottom-color: var(--fill-color);\n",
              "    animation:\n",
              "      spin 1s steps(1) infinite;\n",
              "  }\n",
              "\n",
              "  @keyframes spin {\n",
              "    0% {\n",
              "      border-color: transparent;\n",
              "      border-bottom-color: var(--fill-color);\n",
              "      border-left-color: var(--fill-color);\n",
              "    }\n",
              "    20% {\n",
              "      border-color: transparent;\n",
              "      border-left-color: var(--fill-color);\n",
              "      border-top-color: var(--fill-color);\n",
              "    }\n",
              "    30% {\n",
              "      border-color: transparent;\n",
              "      border-left-color: var(--fill-color);\n",
              "      border-top-color: var(--fill-color);\n",
              "      border-right-color: var(--fill-color);\n",
              "    }\n",
              "    40% {\n",
              "      border-color: transparent;\n",
              "      border-right-color: var(--fill-color);\n",
              "      border-top-color: var(--fill-color);\n",
              "    }\n",
              "    60% {\n",
              "      border-color: transparent;\n",
              "      border-right-color: var(--fill-color);\n",
              "    }\n",
              "    80% {\n",
              "      border-color: transparent;\n",
              "      border-right-color: var(--fill-color);\n",
              "      border-bottom-color: var(--fill-color);\n",
              "    }\n",
              "    90% {\n",
              "      border-color: transparent;\n",
              "      border-bottom-color: var(--fill-color);\n",
              "    }\n",
              "  }\n",
              "</style>\n",
              "\n",
              "  <script>\n",
              "    async function quickchart(key) {\n",
              "      const quickchartButtonEl =\n",
              "        document.querySelector('#' + key + ' button');\n",
              "      quickchartButtonEl.disabled = true;  // To prevent multiple clicks.\n",
              "      quickchartButtonEl.classList.add('colab-df-spinner');\n",
              "      try {\n",
              "        const charts = await google.colab.kernel.invokeFunction(\n",
              "            'suggestCharts', [key], {});\n",
              "      } catch (error) {\n",
              "        console.error('Error during call to suggestCharts:', error);\n",
              "      }\n",
              "      quickchartButtonEl.classList.remove('colab-df-spinner');\n",
              "      quickchartButtonEl.classList.add('colab-df-quickchart-complete');\n",
              "    }\n",
              "    (() => {\n",
              "      let quickchartButtonEl =\n",
              "        document.querySelector('#df-098ed470-f9de-47d5-ba2c-1fd1d242f489 button');\n",
              "      quickchartButtonEl.style.display =\n",
              "        google.colab.kernel.accessAllowed ? 'block' : 'none';\n",
              "    })();\n",
              "  </script>\n",
              "</div>\n",
              "    </div>\n",
              "  </div>\n"
            ]
          },
          "metadata": {},
          "execution_count": 97
        }
      ],
      "source": [
        "# 2.0\n",
        "\n",
        "with open('positive_reviews.txt') as file:\n",
        "    pos_reviews = file.readlines()\n",
        "\n",
        "pos_reviews = pd.DataFrame(pos_reviews, columns=['review'])\n",
        "pos_reviews['positive'] = 1\n",
        "\n",
        "with open('negative_reviews.txt') as file:\n",
        "    neg_reviews = file.readlines()\n",
        "\n",
        "neg_reviews = pd.DataFrame(neg_reviews, columns=['review'])\n",
        "neg_reviews['positive'] = 0\n",
        "\n",
        "reviews = pd.concat([pos_reviews, neg_reviews])\n",
        "\n",
        "train_reviews, test_reviews = train_test_split(reviews, test_size=0.3)\n",
        "\n",
        "reviews.sample(5, random_state=63)"
      ]
    },
    {
      "cell_type": "code",
      "source": [
        "!pip install wordnet"
      ],
      "metadata": {
        "colab": {
          "base_uri": "https://localhost:8080/"
        },
        "id": "D_zgvipWNau8",
        "outputId": "6b1836fc-15b7-4fa4-abe2-45474fdef392"
      },
      "execution_count": null,
      "outputs": [
        {
          "output_type": "stream",
          "name": "stdout",
          "text": [
            "Collecting wordnet\n",
            "  Downloading wordnet-0.0.1b2.tar.gz (8.8 kB)\n",
            "  Preparing metadata (setup.py) ... \u001b[?25l\u001b[?25hdone\n",
            "Collecting colorama==0.3.9 (from wordnet)\n",
            "  Downloading colorama-0.3.9-py2.py3-none-any.whl (20 kB)\n",
            "Building wheels for collected packages: wordnet\n",
            "  Building wheel for wordnet (setup.py) ... \u001b[?25l\u001b[?25hdone\n",
            "  Created wheel for wordnet: filename=wordnet-0.0.1b2-py3-none-any.whl size=10502 sha256=925972482d38be508f19900964c6d69176a42a821c26120f16114145628da957\n",
            "  Stored in directory: /root/.cache/pip/wheels/c0/a1/e8/4649c8712033dcdbd1e64a0fc75216a5d1769665852c36b4f9\n",
            "Successfully built wordnet\n",
            "Installing collected packages: colorama, wordnet\n",
            "Successfully installed colorama-0.3.9 wordnet-0.0.1b2\n"
          ]
        }
      ]
    },
    {
      "cell_type": "code",
      "execution_count": null,
      "metadata": {
        "colab": {
          "base_uri": "https://localhost:8080/"
        },
        "id": "4n1yvt7h4gz0",
        "outputId": "c9ed20d7-d361-4893-a5a3-9d510834992b"
      },
      "outputs": [
        {
          "output_type": "stream",
          "name": "stderr",
          "text": [
            "[nltk_data] Downloading package wordnet to /root/nltk_data...\n",
            "100%|██████████| 7463/7463 [00:10<00:00, 729.50it/s] \n"
          ]
        }
      ],
      "source": [
        "# 2.1\n",
        "from nltk import WordNetLemmatizer\n",
        "from nltk import word_tokenize\n",
        "from tqdm import tqdm\n",
        "nltk.download('wordnet')\n",
        "\n",
        "wnl = WordNetLemmatizer()\n",
        "\n",
        "\n",
        "class Vocab:\n",
        "    def __init__(self, data: pd.Series):\n",
        "        _word_bag = {'<UNK>'}\n",
        "        for sent in tqdm(data.review):\n",
        "            sent = set(map(wnl.lemmatize, word_tokenize(sent)))\n",
        "            _word_bag |= sent\n",
        "\n",
        "        self.idx_to_token = dict(zip(range(1, len(_word_bag) + 1), _word_bag))\n",
        "\n",
        "        self.token_to_idx = {v: u for u, v in self.idx_to_token.items()}\n",
        "        self.vocab_len = len(self.idx_to_token)\n",
        "        self._word_bag = _word_bag\n",
        "\n",
        "\n",
        "vocab_review = Vocab(train_reviews)"
      ]
    },
    {
      "cell_type": "code",
      "execution_count": null,
      "metadata": {
        "id": "SMRpRmr_4gz0"
      },
      "outputs": [],
      "source": [
        "class ReviewDataset(Dataset):\n",
        "    def __init__(self, x: pd.Series, y: pd.Series, _vocab: Vocab):\n",
        "        self.x = x\n",
        "        self.y = y\n",
        "        self.vocab = _vocab\n",
        "\n",
        "    def vectorize(self, review: str):\n",
        "        MAX_REVIEW_LEN = 64\n",
        "        review = review.lower()\n",
        "        output_tensor = []\n",
        "\n",
        "        for l, word in enumerate(word_tokenize(review[:MAX_REVIEW_LEN]), 1):\n",
        "\n",
        "            word = wnl.lemmatize(word)\n",
        "            if word in self.vocab.token_to_idx.keys():\n",
        "                output_tensor.append(self.vocab.token_to_idx[word])\n",
        "            else:\n",
        "                output_tensor.append(self.vocab.token_to_idx['<UNK>'])\n",
        "\n",
        "        output_tensor = [0] * (MAX_REVIEW_LEN - len(output_tensor)) + output_tensor\n",
        "\n",
        "        return output_tensor\n",
        "\n",
        "    def __len__(self):\n",
        "        return self.x.shape[0]\n",
        "\n",
        "    def __getitem__(self, idx):\n",
        "        x = torch.LongTensor(self.vectorize(self.x.iloc[idx]))\n",
        "        return x, torch.tensor(self.y.iloc[idx]).long()"
      ]
    },
    {
      "cell_type": "code",
      "execution_count": null,
      "metadata": {
        "id": "mffvQ5oM4gz0"
      },
      "outputs": [],
      "source": [
        "\n",
        "class RNNModel(torch.nn.Module):\n",
        "    def __init__(self, vocab_size, embedding_dim, hidden_dim, output_dim, n_layers, dropout):\n",
        "        super().__init__()\n",
        "        self.embedding = torch.nn.Embedding(vocab_size, embedding_dim)\n",
        "        self.lstm = torch.nn.RNN(embedding_dim, hidden_dim, num_layers=n_layers, batch_first=True)\n",
        "        self.fc = torch.nn.Linear(hidden_dim, output_dim)\n",
        "        self.dropout = torch.nn.Dropout(dropout)\n",
        "\n",
        "    def forward(self, x):\n",
        "        embedded = self.embedding(x)\n",
        "        output, (hidden, cell) = self.lstm(embedded)\n",
        "        hidden = self.dropout(hidden.squeeze(0))\n",
        "        out = self.fc(hidden)\n",
        "        return out"
      ]
    },
    {
      "cell_type": "code",
      "execution_count": null,
      "metadata": {
        "id": "ytOuLoOK4gz0"
      },
      "outputs": [],
      "source": [
        "model = RNNModel(\n",
        "    vocab_size=vocab_review.vocab_len + 1,\n",
        "    embedding_dim=256,\n",
        "    hidden_dim=128,\n",
        "    output_dim=2,\n",
        "    n_layers=2,\n",
        "    dropout=0.5\n",
        ")"
      ]
    },
    {
      "cell_type": "code",
      "execution_count": null,
      "metadata": {
        "colab": {
          "base_uri": "https://localhost:8080/"
        },
        "id": "zNn3asCa4gz0",
        "outputId": "3e74bf69-b73e-4639-9041-98a677f7be07"
      },
      "outputs": [
        {
          "output_type": "stream",
          "name": "stdout",
          "text": [
            "EPOCH:   1 \t LOSS: 0.6779 \t VAL LOSS: 0.6850\n",
            "TEST ACCURACY: 0.5630\n",
            "EPOCH:   2 \t LOSS: 0.6610 \t VAL LOSS: 0.6856\n",
            "TEST ACCURACY: 0.5730\n",
            "EPOCH:   3 \t LOSS: 0.6483 \t VAL LOSS: 0.6765\n",
            "TEST ACCURACY: 0.5911\n"
          ]
        },
        {
          "output_type": "execute_result",
          "data": {
            "text/plain": [
              "<All keys matched successfully>"
            ]
          },
          "metadata": {},
          "execution_count": 118
        }
      ],
      "source": [
        "review_train_ds = ReviewDataset(train_reviews.review, train_reviews.positive, vocab_review)\n",
        "review_valid_ds = ReviewDataset(test_reviews.review, test_reviews.positive, vocab_review)\n",
        "\n",
        "optimizer = torch.optim.Adam(model.parameters(), weight_decay=0.001)\n",
        "loss = torch.nn.CrossEntropyLoss()\n",
        "loss_log = []\n",
        "loss_log_val = []\n",
        "min_val_loss = 10 ** 10\n",
        "\n",
        "for i in range(3):\n",
        "    epoch_loss = 0\n",
        "    epoch_loss_val = 0\n",
        "    j, k = 1, 1  # Делители running losses\n",
        "\n",
        "    model.train()\n",
        "    for j, (batch_x, batch_y) in enumerate(DataLoader(review_train_ds, batch_size=64, shuffle=True), 1):\n",
        "        y_pred = model(batch_x)\n",
        "        running_loss = loss(y_pred, batch_y)\n",
        "        epoch_loss += running_loss.item()\n",
        "\n",
        "        running_loss.backward()\n",
        "        optimizer.step()\n",
        "        optimizer.zero_grad()\n",
        "\n",
        "    model.eval()\n",
        "    for k, (batch_x, batch_y) in enumerate(DataLoader(review_valid_ds, batch_size=64, shuffle=True), 1):\n",
        "        y_pred = model(batch_x)\n",
        "        running_loss = loss(y_pred, batch_y)\n",
        "        epoch_loss_val += running_loss.item()\n",
        "\n",
        "    epoch_loss /= j\n",
        "    epoch_loss_val /= k\n",
        "\n",
        "    if epoch_loss_val < min_val_loss:\n",
        "        torch.save(model.state_dict(), 'review_model.pt')\n",
        "\n",
        "    if i % 1 == 0:\n",
        "        print(f'EPOCH: {i + 1:3d} \\t LOSS: {epoch_loss:0.4f} \\t VAL LOSS: {epoch_loss_val:0.4f}')\n",
        "\n",
        "        right_answers = 0\n",
        "        for batch_x, batch_y in DataLoader(review_valid_ds, batch_size=32):\n",
        "            predictions = model(batch_x).argmax(dim=1)\n",
        "            right_answers += (torch.eq(batch_y, predictions)).sum()\n",
        "\n",
        "        print(f'TEST ACCURACY: {right_answers / len(review_valid_ds):0.4f}')\n",
        "\n",
        "    loss_log.append(epoch_loss)\n",
        "    loss_log_val.append(epoch_loss_val)\n",
        "\n",
        "model.eval()\n",
        "model.load_state_dict(torch.load('review_model.pt'))"
      ]
    },
    {
      "cell_type": "code",
      "source": [],
      "metadata": {
        "id": "6fq6UDJtPWq_"
      },
      "execution_count": null,
      "outputs": []
    }
  ],
  "metadata": {
    "colab": {
      "provenance": []
    },
    "gpuClass": "standard",
    "kernelspec": {
      "display_name": "Python 3 (ipykernel)",
      "language": "python",
      "name": "python3"
    },
    "language_info": {
      "codemirror_mode": {
        "name": "ipython",
        "version": 3
      },
      "file_extension": ".py",
      "mimetype": "text/x-python",
      "name": "python",
      "nbconvert_exporter": "python",
      "pygments_lexer": "ipython3",
      "version": "3.8.13"
    }
  },
  "nbformat": 4,
  "nbformat_minor": 0
}