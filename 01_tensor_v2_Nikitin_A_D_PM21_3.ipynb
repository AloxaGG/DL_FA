{
  "cells": [
    {
      "cell_type": "markdown",
      "metadata": {
        "id": "_gE94V3G1RCx"
      },
      "source": [
        "# 01. Знакомство с `torch.Tensor`\n",
        "\n",
        "V 0.1 04.02.2021"
      ]
    },
    {
      "cell_type": "markdown",
      "metadata": {
        "id": "TlWOXn0f1RC7"
      },
      "source": [
        "---"
      ]
    },
    {
      "cell_type": "markdown",
      "metadata": {
        "id": "lZfJ1FRM1RC8"
      },
      "source": [
        "При решении данных задач не подразумевается использования циклов или генераторов Python, если в задании не сказано обратного. Решение должно опираться на использование функционала библиотеки `torch`.\n",
        "\n",
        "[PyTorch documentation](https://pytorch.org/docs/stable/#pytorch-documentation)"
      ]
    },
    {
      "cell_type": "code",
      "execution_count": null,
      "metadata": {
        "id": "b3AW8rF-1RC9"
      },
      "outputs": [],
      "source": [
        "import torch"
      ]
    },
    {
      "cell_type": "markdown",
      "metadata": {
        "id": "vow49PuE1RC9"
      },
      "source": [
        "## 1.1 Создание тензоров и выполнение базовых операций над ними\n",
        "\n",
        "[Документация по функциям для создания тензоров](https://pytorch.org/docs/stable/torch.html#creation-ops)\n",
        "\n",
        "[Документация по функциям для работы с индексами](https://pytorch.org/docs/stable/torch.html#indexing-slicing-joining-mutating-ops)"
      ]
    },
    {
      "cell_type": "markdown",
      "metadata": {
        "id": "wBIwO1SB1RC-"
      },
      "source": [
        "1.1.1 Создайте двумерный тензор размера (8, 8). Используя как можно меньше операций, добейтесь расстановки кодов \"шахматных фигур\".\n",
        "\n",
        "Ожидаемый результат:\n",
        "\n",
        "```\n",
        "[[-4., -3., -2., -6., -5., -2., -3., -4.],\n",
        " [-1., -1., -1., -1., -1., -1., -1., -1.],\n",
        " [0., 0., 0., 0., 0., 0., 0., 0.],\n",
        " [0., 0., 0., 0., 0., 0., 0., 0.],\n",
        " [0., 0., 0., 0., 0., 0., 0., 0.],\n",
        " [0., 0., 0., 0., 0., 0., 0., 0.],\n",
        " [1., 1., 1., 1., 1., 1., 1., 1.],\n",
        " [4., 3., 2., 6., 5., 2., 3., 4.]]\n",
        "\n",
        "```"
      ]
    },
    {
      "cell_type": "code",
      "execution_count": null,
      "metadata": {
        "colab": {
          "base_uri": "https://localhost:8080/"
        },
        "id": "hRnlTeJ_7bwm",
        "outputId": "af7fc9c3-ceb8-42a8-8b30-58f94c73dbe2"
      },
      "outputs": [
        {
          "output_type": "execute_result",
          "data": {
            "text/plain": [
              "tensor([[-4., -3., -2., -6., -5., -2., -3., -4.],\n",
              "        [-1., -1., -1., -1., -1., -1., -1., -1.],\n",
              "        [ 0.,  0.,  0.,  0.,  0.,  0.,  0.,  0.],\n",
              "        [ 0.,  0.,  0.,  0.,  0.,  0.,  0.,  0.],\n",
              "        [ 0.,  0.,  0.,  0.,  0.,  0.,  0.,  0.],\n",
              "        [ 0.,  0.,  0.,  0.,  0.,  0.,  0.,  0.],\n",
              "        [ 1.,  1.,  1.,  1.,  1.,  1.,  1.,  1.],\n",
              "        [ 4.,  3.,  2.,  6.,  5.,  2.,  3.,  4.]])"
            ]
          },
          "metadata": {},
          "execution_count": 59
        }
      ],
      "source": [
        "torch.tensor([[-4., -3., -2., -6., -5., -2., -3., -4.],\n",
        " [-1., -1., -1., -1., -1., -1., -1., -1.],\n",
        " [0., 0., 0., 0., 0., 0., 0., 0.],\n",
        " [0., 0., 0., 0., 0., 0., 0., 0.],\n",
        " [0., 0., 0., 0., 0., 0., 0., 0.],\n",
        " [0., 0., 0., 0., 0., 0., 0., 0.],\n",
        " [1., 1., 1., 1., 1., 1., 1., 1.],\n",
        " [4., 3., 2., 6., 5., 2., 3., 4.]]\n",
        " )"
      ]
    },
    {
      "cell_type": "markdown",
      "metadata": {
        "id": "20x5RE1V1RC_"
      },
      "source": [
        "1.1.2 Средствами `torch` рассчитать произведения четных чисел от 2 до 20 на ближайшие к ним бОльшие нечетные числа."
      ]
    },
    {
      "cell_type": "code",
      "execution_count": null,
      "metadata": {
        "colab": {
          "base_uri": "https://localhost:8080/"
        },
        "id": "hX7_9KjD8O0U",
        "outputId": "e2e482dd-1c6c-458b-98af-06f2962f46e6"
      },
      "outputs": [
        {
          "output_type": "execute_result",
          "data": {
            "text/plain": [
              "tensor([  6,  20,  42,  72, 110, 156, 210, 272, 342, 420])"
            ]
          },
          "metadata": {},
          "execution_count": 60
        }
      ],
      "source": [
        "x = torch.arange(2,21,2)\n",
        "y = x*(x+1)\n",
        "y"
      ]
    },
    {
      "cell_type": "markdown",
      "metadata": {
        "id": "N_-t5GRM1RC_"
      },
      "source": [
        "1.1.3 Создать тензор размера 11x7 вида: [[1, 2, 3, ..., 7], [11, 12, 13, ..., 17], [21, 22, 23, ..., 27], ..., [101, 102, 103, ..., 107]]"
      ]
    },
    {
      "cell_type": "code",
      "execution_count": null,
      "metadata": {
        "colab": {
          "base_uri": "https://localhost:8080/"
        },
        "id": "R2g0-FrkDYwt",
        "outputId": "b953bd23-8a14-4528-9859-ac875fad2139"
      },
      "outputs": [
        {
          "output_type": "execute_result",
          "data": {
            "text/plain": [
              "(tensor([1, 2, 3, 4, 5, 6, 7]),\n",
              " tensor([11, 12, 13, 14, 15, 16, 17]),\n",
              " tensor([21, 22, 23, 24, 25, 26, 27]),\n",
              " tensor([31, 32, 33, 34, 35, 36, 37]),\n",
              " tensor([41, 42, 43, 44, 45, 46, 47]),\n",
              " tensor([51, 52, 53, 54, 55, 56, 57]),\n",
              " tensor([61, 62, 63, 64, 65, 66, 67]),\n",
              " tensor([71, 72, 73, 74, 75, 76, 77]),\n",
              " tensor([81, 82, 83, 84, 85, 86, 87]),\n",
              " tensor([91, 92, 93, 94, 95, 96, 97]),\n",
              " tensor([101, 102, 103, 104, 105, 106, 107]))"
            ]
          },
          "metadata": {},
          "execution_count": 61
        }
      ],
      "source": [
        "x = torch.arange(1,108)\n",
        "x= x[x%10 !=8]\n",
        "x= x[x%10 !=9]\n",
        "x= x[x%10 !=0]\n",
        "x = torch.split(x, 7)\n",
        "x"
      ]
    },
    {
      "cell_type": "markdown",
      "metadata": {
        "id": "oxVeUiHR1RC_"
      },
      "source": [
        "1.1.4 Написать функцию, которая для целых значений `n` и `m` будет возвращать тензор размера `n`x`m`, заполненный текстурой размера 2x2, состоящей из следующих значений:\n",
        "\n",
        "```\n",
        "0 1\n",
        "\n",
        "2 3\n",
        "\n",
        "```\n",
        "\n",
        "Пример для n = 4 и m = 5:\n",
        "\n",
        "```\n",
        "0 1 0 1 0\n",
        "\n",
        "2 3 2 3 2\n",
        "\n",
        "0 1 0 1 0\n",
        "\n",
        "2 3 2 3 2\n",
        "```"
      ]
    },
    {
      "cell_type": "code",
      "execution_count": null,
      "metadata": {
        "colab": {
          "base_uri": "https://localhost:8080/"
        },
        "id": "IDJSXPQwFaRp",
        "outputId": "98ddb4e5-be02-4e5e-a22a-6a64cfe55d52"
      },
      "outputs": [
        {
          "output_type": "execute_result",
          "data": {
            "text/plain": [
              "tensor([[0, 1, 0, 1],\n",
              "        [2, 3, 2, 3],\n",
              "        [0, 1, 0, 1]])"
            ]
          },
          "metadata": {},
          "execution_count": 62
        }
      ],
      "source": [
        "torch.tensor([[0,1],[2,3]]).repeat(3, 4)[:3, :4]"
      ]
    },
    {
      "cell_type": "markdown",
      "metadata": {
        "id": "WH9hxJse1RDA"
      },
      "source": [
        "1.1.5 Сгенерировать двумерный тензор `t` размерности (4, 7), состоящий из случайных действительных чисел, равномерно распределенных в дипазоне от 0 до 20. Нормализовать значения массива с помощью преобразования вида $ax+b$ так, что после нормализации максимальный элемент масива будет равен 1.0, минимальный 0.0"
      ]
    },
    {
      "cell_type": "markdown",
      "metadata": {
        "id": "vPqIeewXB-mM"
      },
      "source": [
        "[Random Sampling](https://pytorch.org/docs/stable/torch.html#random-sampling)\n",
        "\n",
        "[Distributions](https://pytorch.org/docs/stable/distributions.html)"
      ]
    },
    {
      "cell_type": "code",
      "execution_count": null,
      "metadata": {
        "colab": {
          "base_uri": "https://localhost:8080/"
        },
        "id": "AzK5EnRx1a2l",
        "outputId": "838ddf6e-effe-4693-e2b2-7201c4d1d2cb"
      },
      "outputs": [
        {
          "output_type": "stream",
          "name": "stdout",
          "text": [
            "tensor([[0.0526, 0.1579, 0.1579, 0.4211, 0.0000, 0.2105, 0.8421],\n",
            "        [0.7368, 0.6316, 0.8947, 0.6316, 0.5789, 0.2632, 1.0000],\n",
            "        [0.1579, 0.0000, 0.6842, 0.4211, 0.8947, 0.5263, 0.0000],\n",
            "        [0.1053, 0.4211, 1.0000, 0.2105, 0.8947, 0.5789, 0.8947]])\n"
          ]
        }
      ],
      "source": [
        "m = torch.randint(low=0, high=20, size=(4,7))\n",
        "m\n",
        "a = 0\n",
        "b = 20\n",
        "normalized_dataset = (m - torch.min(m)) / (torch.max(m) - torch.min(m))\n",
        "print(normalized_dataset)"
      ]
    },
    {
      "cell_type": "markdown",
      "metadata": {
        "id": "K_R6cwq11RDE"
      },
      "source": [
        "1.1.6 Задать два двумерных тензора `ar1` и `ar2` размерности (4, 7), состоящих из случайных целых чисел в пределах от 0 до 10. Построить двумерный тензор размерности (4, 7), каждый элемент которого представляет собой максимум из двух значений, находящихся на аналогичной позиции в тензорах `ar1`, `ar2`.\n",
        "\n",
        "[Reductions ops](https://pytorch.org/docs/stable/torch.html#reduction-ops)"
      ]
    },
    {
      "cell_type": "code",
      "execution_count": null,
      "metadata": {
        "colab": {
          "base_uri": "https://localhost:8080/"
        },
        "id": "tTdDz-_L7elP",
        "outputId": "8bb55753-0a23-4c7f-8cda-747b64598503"
      },
      "outputs": [
        {
          "output_type": "stream",
          "name": "stdout",
          "text": [
            "tensor([[2, 4, 4, 8, 5, 1, 2],\n",
            "        [4, 0, 9, 9, 7, 4, 7],\n",
            "        [6, 6, 5, 7, 0, 5, 0],\n",
            "        [1, 7, 4, 8, 1, 2, 0]])\n",
            "tensor([[4, 8, 8, 1, 4, 8, 9],\n",
            "        [7, 6, 3, 0, 0, 3, 7],\n",
            "        [2, 8, 3, 0, 5, 5, 7],\n",
            "        [6, 1, 0, 0, 2, 2, 3]])\n"
          ]
        },
        {
          "output_type": "execute_result",
          "data": {
            "text/plain": [
              "tensor([[4, 8, 8, 8, 5, 8, 9],\n",
              "        [7, 6, 9, 9, 7, 4, 7],\n",
              "        [6, 8, 5, 7, 5, 5, 7],\n",
              "        [6, 7, 4, 8, 2, 2, 3]])"
            ]
          },
          "metadata": {},
          "execution_count": 64
        }
      ],
      "source": [
        "a = 0\n",
        "b = 10\n",
        "ar1 = torch.randint(low=a, high=b, size=(4,7))\n",
        "ar2 = torch.randint(low=a, high=b, size=(4,7))\n",
        "print(ar1)\n",
        "print(ar2)\n",
        "arr3 = torch.where(ar1>ar2, ar1,ar2)\n",
        "arr3"
      ]
    },
    {
      "cell_type": "markdown",
      "metadata": {
        "id": "x6zmMhyKBPWQ"
      },
      "source": [
        "1.1.7 Создать тензор из 20 случайных целых чисел от 0 до 100. Получить второе сверху значение в тензоре. Определить индекс этого значения."
      ]
    },
    {
      "cell_type": "code",
      "execution_count": null,
      "metadata": {
        "colab": {
          "base_uri": "https://localhost:8080/"
        },
        "id": "EPIIsrFR8L6G",
        "outputId": "94645b66-0310-4bfd-bf7a-d2e4f7cce513"
      },
      "outputs": [
        {
          "output_type": "stream",
          "name": "stdout",
          "text": [
            "tensor([[82, 56, 99, 43, 53, 26, 38, 84, 57, 58, 21, 48, 62, 44, 30, 44, 82, 17,\n",
            "         40, 12]])\n"
          ]
        },
        {
          "output_type": "execute_result",
          "data": {
            "text/plain": [
              "tensor([17])"
            ]
          },
          "metadata": {},
          "execution_count": 65
        }
      ],
      "source": [
        "df = torch.randint(0,100,size = [1,20])\n",
        "print(df)\n",
        "torch.kthvalue(df, 2)[0]# find 3 largest element from the tensor"
      ]
    },
    {
      "cell_type": "markdown",
      "metadata": {
        "id": "Xshsy8fD1RDE"
      },
      "source": [
        "## 1.2 Распространение"
      ]
    },
    {
      "cell_type": "markdown",
      "metadata": {
        "id": "jlP22HAJCo28"
      },
      "source": [
        "[Numpy broadcasting](https://numpy.org/devdocs/user/theory.broadcasting.html)\n",
        "\n",
        "[Torch broadcasting](https://pytorch.org/docs/stable/notes/broadcasting.html)"
      ]
    },
    {
      "cell_type": "markdown",
      "metadata": {
        "id": "uRD6-8Gd1RDF"
      },
      "source": [
        "1.2.1 Создать тензор 11x7 вида: `[[1, 2, 3, ..., 7], [11, 12, 13, ..., 17], [21, 22, 23, ..., 27], ..., [101, 102, 103, ..., 107]]`. При решении задачи применить технику распространения."
      ]
    },
    {
      "cell_type": "code",
      "execution_count": null,
      "metadata": {
        "colab": {
          "base_uri": "https://localhost:8080/"
        },
        "id": "XyTcLWM1Ggpo",
        "outputId": "9bf72af5-30b8-46d6-99b8-e79ce770335a"
      },
      "outputs": [
        {
          "output_type": "execute_result",
          "data": {
            "text/plain": [
              "(tensor([1, 2, 3, 4, 5, 6, 7]),\n",
              " tensor([11, 12, 13, 14, 15, 16, 17]),\n",
              " tensor([21, 22, 23, 24, 25, 26, 27]),\n",
              " tensor([31, 32, 33, 34, 35, 36, 37]),\n",
              " tensor([41, 42, 43, 44, 45, 46, 47]),\n",
              " tensor([51, 52, 53, 54, 55, 56, 57]),\n",
              " tensor([61, 62, 63, 64, 65, 66, 67]),\n",
              " tensor([71, 72, 73, 74, 75, 76, 77]),\n",
              " tensor([81, 82, 83, 84, 85, 86, 87]),\n",
              " tensor([91, 92, 93, 94, 95, 96, 97]),\n",
              " tensor([101, 102, 103, 104, 105, 106, 107]))"
            ]
          },
          "metadata": {},
          "execution_count": 66
        }
      ],
      "source": [
        "x = torch.arange(1,108)\n",
        "x= x[x%10 !=8]\n",
        "x= x[x%10 !=9]\n",
        "x= x[x%10 !=0]\n",
        "x = torch.split(x, 7)\n",
        "x"
      ]
    },
    {
      "cell_type": "markdown",
      "metadata": {
        "id": "iSY9Iday1RDF"
      },
      "source": [
        "1.2.2 Вычесть одномерный тензор `b_1d` из двухмерного тензора `a_2d`, так, чтобы каждый элемент одномерного тензора вычитался из всех элементов соответствующих строк двумерного тензора.\n",
        "\n",
        "_Пример:_\n",
        "\n",
        "Для входа:\n",
        "```python\n",
        "a_2d = torch.tensor([[3,3,3],[4,4,4],[5,5,5]])\n",
        "b_1d = torch.tensor([1,2,3])\n",
        "```\n",
        "\n",
        "Ожидается резульат:\n",
        "\n",
        "```python\n",
        "[[2 2 2]\n",
        " [2 2 2]\n",
        " [2 2 2]]\n",
        "```"
      ]
    },
    {
      "cell_type": "code",
      "execution_count": null,
      "metadata": {
        "colab": {
          "base_uri": "https://localhost:8080/"
        },
        "id": "Qvy5p2TjHcXT",
        "outputId": "d2b2aa5b-4d87-423a-b7a0-0d2a1c9fb8ec"
      },
      "outputs": [
        {
          "output_type": "execute_result",
          "data": {
            "text/plain": [
              "tensor([[2, 2, 2],\n",
              "        [2, 2, 2],\n",
              "        [2, 2, 2]])"
            ]
          },
          "metadata": {},
          "execution_count": 67
        }
      ],
      "source": [
        "a_2d = torch.tensor([[3,3,3],[4,4,4],[5,5,5]])\n",
        "b_1d = torch.tensor([1,2,3])\n",
        "for i in range(0,3):\n",
        "  a_2d[i]= a_2d[i] - b_1d[i]\n",
        "a_2d"
      ]
    },
    {
      "cell_type": "markdown",
      "metadata": {
        "id": "dFTvPsY91RDF"
      },
      "source": [
        "## 1.3 Индексы, маскирование и прихотливое индексирование\n",
        "\n",
        "[Документация по функциям для работы с индексами](https://pytorch.org/docs/stable/torch.html#indexing-slicing-joining-mutating-ops)"
      ]
    },
    {
      "cell_type": "markdown",
      "metadata": {
        "id": "McYtDYhH1RDG"
      },
      "source": [
        "1.3.1 Получить индексы, для которых элементы тензоров `a` и `b` совпадают.\n",
        "\n",
        "_Пример:_\n",
        "\n",
        "Для входа:\n",
        "```python\n",
        "a = torch.tensor([1,2,3,2,3,4,3,4,5,6])\n",
        "b = torch.tensor([7,2,10,2,7,4,9,4,9,8])\n",
        "```\n",
        "\n",
        "Ожидается резульат:\n",
        "\n",
        "```python\n",
        "tensor([1, 3, 5, 7])\n",
        "```"
      ]
    },
    {
      "cell_type": "code",
      "execution_count": null,
      "metadata": {
        "colab": {
          "base_uri": "https://localhost:8080/"
        },
        "id": "ku4dYiaMJtOu",
        "outputId": "ce3e9eb8-122d-4b11-e584-51fbf1e186a1"
      },
      "outputs": [
        {
          "output_type": "execute_result",
          "data": {
            "text/plain": [
              "tensor([1, 3, 5, 7])"
            ]
          },
          "metadata": {},
          "execution_count": 68
        }
      ],
      "source": [
        "a = torch.tensor([1,2,3,2,3,4,3,4,5,6])\n",
        "b = torch.tensor([7,2,10,2,7,4,9,4,9,8])\n",
        "torch.where(a == b)[0]"
      ]
    },
    {
      "cell_type": "markdown",
      "metadata": {
        "id": "MnBq3nfy1RDG"
      },
      "source": [
        "1.3.2 Инвертировать порядок элементов в двумерном тензоре `torch.arange(9).view(3,3)`.\n",
        "\n",
        "Ожидаемый результат:\n",
        "\n",
        "\n",
        "```python\n",
        "tensor([[8, 7, 6],\n",
        "       [5, 4, 3],\n",
        "       [2, 1, 0]])\n",
        "```"
      ]
    },
    {
      "cell_type": "code",
      "execution_count": null,
      "metadata": {
        "colab": {
          "base_uri": "https://localhost:8080/"
        },
        "id": "T4PSBRNBLbyW",
        "outputId": "ffd478e9-c968-49a7-8377-81cd867b0fe1"
      },
      "outputs": [
        {
          "output_type": "execute_result",
          "data": {
            "text/plain": [
              "tensor([[8, 7, 6],\n",
              "        [5, 4, 3],\n",
              "        [2, 1, 0]])"
            ]
          },
          "metadata": {},
          "execution_count": 69
        }
      ],
      "source": [
        "a = torch.arange(9).view(3,3)\n",
        "a = torch.flip(a, [0, 1])\n",
        "a"
      ]
    },
    {
      "cell_type": "markdown",
      "metadata": {
        "id": "tANsLnOC1RDH"
      },
      "source": [
        "1.3.3 Из входного тензора a получить только элементы, находящиеся в диапазоне от 5 до 10.\n",
        "\n",
        "_Пример:_\n",
        "\n",
        "Для входа:\n",
        "```python\n",
        "a = torch.tensor([2, 6, 1, 9, 10, 3, 27])\n",
        "```\n",
        "\n",
        "Ожидается результат:\n",
        "\n",
        "```python\n",
        "tensor([6, 9, 10])\n",
        "```"
      ]
    },
    {
      "cell_type": "code",
      "execution_count": null,
      "metadata": {
        "colab": {
          "base_uri": "https://localhost:8080/"
        },
        "id": "BQ4cHylNMFcO",
        "outputId": "e6dbf2ed-412d-4277-8f8f-bfa16451c788"
      },
      "outputs": [
        {
          "output_type": "execute_result",
          "data": {
            "text/plain": [
              "tensor([ 6,  9, 10])"
            ]
          },
          "metadata": {},
          "execution_count": 70
        }
      ],
      "source": [
        "a = torch.tensor([2, 6, 1, 9, 10, 3, 27])\n",
        "a = a[a>5]\n",
        "a[a<=10]"
      ]
    },
    {
      "cell_type": "markdown",
      "metadata": {
        "id": "3vlK0gV21RDH"
      },
      "source": [
        "1.3.4 Поменять местами столбец 1 и 2 тензора `torch.arange(9).reshape(3,3)`"
      ]
    },
    {
      "cell_type": "code",
      "execution_count": null,
      "metadata": {
        "colab": {
          "base_uri": "https://localhost:8080/"
        },
        "id": "6AsysP1SMuhJ",
        "outputId": "abf37296-0933-4cd6-e5c8-a1e3beb0da80"
      },
      "outputs": [
        {
          "output_type": "stream",
          "name": "stdout",
          "text": [
            "tensor([[0, 1, 2],\n",
            "        [3, 4, 5],\n",
            "        [6, 7, 8]])\n"
          ]
        },
        {
          "output_type": "execute_result",
          "data": {
            "text/plain": [
              "tensor([[0, 2, 1],\n",
              "        [3, 5, 4],\n",
              "        [6, 8, 7]])"
            ]
          },
          "metadata": {},
          "execution_count": 71
        }
      ],
      "source": [
        "a = torch.arange(9).reshape(3,3)\n",
        "print(a)\n",
        "a[:,[1, 2]]= a[:,[2,1 ]]\n",
        "a"
      ]
    },
    {
      "cell_type": "markdown",
      "metadata": {
        "id": "cheFtWhU1RDH"
      },
      "source": [
        "1.3.5 Создать тензор 8 на 10 из случайных целых чисел из диапазона от 0 до 10 и найти в ней строку (ее индекс и вывести саму строку), в которой сумма значений минимальна."
      ]
    },
    {
      "cell_type": "code",
      "execution_count": null,
      "metadata": {
        "colab": {
          "base_uri": "https://localhost:8080/"
        },
        "id": "2fZxB_VNPsUz",
        "outputId": "e3515f74-0465-480b-e846-af9885f48a2a"
      },
      "outputs": [
        {
          "output_type": "stream",
          "name": "stdout",
          "text": [
            "tensor([[2, 0, 7, 4, 4, 0, 8, 7, 0, 5],\n",
            "        [3, 5, 0, 5, 6, 7, 3, 8, 3, 8],\n",
            "        [6, 1, 9, 6, 5, 3, 7, 1, 0, 9],\n",
            "        [2, 1, 0, 3, 4, 8, 7, 1, 7, 5],\n",
            "        [6, 0, 8, 2, 8, 7, 0, 1, 8, 2],\n",
            "        [8, 5, 6, 9, 2, 5, 5, 3, 8, 4],\n",
            "        [8, 6, 7, 3, 5, 3, 5, 5, 6, 3],\n",
            "        [0, 8, 9, 8, 0, 3, 0, 1, 4, 3]])\n",
            "tensor(36)\n"
          ]
        },
        {
          "output_type": "execute_result",
          "data": {
            "text/plain": [
              "tensor([0, 8, 9, 8, 0, 3, 0, 1, 4, 3])"
            ]
          },
          "metadata": {},
          "execution_count": 72
        }
      ],
      "source": [
        "a = torch.randint(0,10, (8, 10))\n",
        "print(a)\n",
        "result = torch.min(torch.sum(a, 1), dim=0, keepdim=False)\n",
        "print(result.values)\n",
        "a[result.indices]\n"
      ]
    },
    {
      "cell_type": "markdown",
      "metadata": {
        "id": "grOCNU4XFE2B"
      },
      "source": [
        "1.3.6 Cоздать тензор из 20 случайных целых чисел от 0 до 100. Обрезать значения тензора (заменить значения, выходящие за диапазон, на крайние значения) снизу по значению 30, сверху по значению 70."
      ]
    },
    {
      "cell_type": "code",
      "execution_count": null,
      "metadata": {
        "colab": {
          "base_uri": "https://localhost:8080/"
        },
        "id": "72n-hD9P9TzL",
        "outputId": "b1d83a0c-dc2d-405c-e1c9-cd08ea870ff6"
      },
      "outputs": [
        {
          "output_type": "execute_result",
          "data": {
            "text/plain": [
              "tensor([[38, 30, 36, 70, 70, 70, 49, 30, 70, 70, 50, 70, 68, 66, 30, 30, 60, 70,\n",
              "         70, 64]])"
            ]
          },
          "metadata": {},
          "execution_count": 73
        }
      ],
      "source": [
        "df = torch.randint(0,100,size = [1,20])\n",
        "torch.clamp(df, min=30, max=70)"
      ]
    },
    {
      "cell_type": "markdown",
      "metadata": {
        "id": "HNfQjY8P1RDI"
      },
      "source": [
        "1.3.7 Создать два тензора размера 30 на 3 из случайных целых чисел из диапазона от 0 до 10 и найти все значения первого тензора, которые больше соответсвующих (по расположению) значений второго тензора. Подсчитать сумму этих значений."
      ]
    },
    {
      "cell_type": "code",
      "execution_count": null,
      "metadata": {
        "colab": {
          "base_uri": "https://localhost:8080/"
        },
        "id": "K2CBQZgn-Dhl",
        "outputId": "17afcf33-e38d-4ac2-d1ff-478988f5a0e9"
      },
      "outputs": [
        {
          "output_type": "execute_result",
          "data": {
            "text/plain": [
              "tensor(241)"
            ]
          },
          "metadata": {},
          "execution_count": 74
        }
      ],
      "source": [
        "a = 0\n",
        "b = 10\n",
        "ar1 = torch.randint(low=a, high=b, size=(30,3))\n",
        "ar2 = torch.randint(low=a, high=b, size=(30,3))\n",
        "torch.where(ar1>ar2,ar1,0).sum()"
      ]
    },
    {
      "cell_type": "markdown",
      "metadata": {
        "id": "doBCxYJA1RDI"
      },
      "source": [
        "1.3.8 При помощи прихотливого индексирования для двухмерного массива размерности (20, 20), состоящего из случайных целых чисел в пределах от 0 до 10 получить массив элементов находящихся на диагонали, проходящей над основной диагональю."
      ]
    },
    {
      "cell_type": "markdown",
      "metadata": {
        "id": "7xriRN7vCUM0"
      },
      "source": [
        "**ДОДЕЛАТЬ**"
      ]
    },
    {
      "cell_type": "code",
      "execution_count": null,
      "metadata": {
        "colab": {
          "base_uri": "https://localhost:8080/"
        },
        "id": "QCnmsq4C-zq_",
        "outputId": "1ebb1167-4c9c-4d15-b27c-8330a936ab8d"
      },
      "outputs": [
        {
          "output_type": "execute_result",
          "data": {
            "text/plain": [
              "tensor([4, 8, 4, 1, 8, 5, 7, 5, 6, 7, 1, 1, 3, 0, 3, 4, 7, 1, 5])"
            ]
          },
          "metadata": {},
          "execution_count": 75
        }
      ],
      "source": [
        "df = torch.randint(low=0, high=10, size=(20,20))\n",
        "df.flatten()[1::21]"
      ]
    },
    {
      "cell_type": "markdown",
      "metadata": {
        "id": "6M1lkfLp1RDJ"
      },
      "source": [
        "1.3.9 Задать два двухмерных тензора `ar1` и `ar2` размерности (5, 10), состоящих из случайных целых чисел в пределах от 0 до 10. Удвоить все значения `ar1`, которые совпадают со значениями `ar2`, расположенными на аналогичных позициях."
      ]
    },
    {
      "cell_type": "code",
      "execution_count": null,
      "metadata": {
        "colab": {
          "base_uri": "https://localhost:8080/"
        },
        "id": "YEv5TpiuCTT3",
        "outputId": "cd77b3b9-95c2-4380-d697-ab3c8e19337c"
      },
      "outputs": [
        {
          "output_type": "stream",
          "name": "stdout",
          "text": [
            "tensor([[8, 2, 1, 2, 9, 2, 9, 5, 4, 0],\n",
            "        [8, 9, 0, 9, 4, 3, 8, 7, 1, 9],\n",
            "        [0, 8, 7, 5, 3, 9, 5, 6, 9, 1],\n",
            "        [8, 9, 8, 6, 7, 1, 6, 7, 8, 3],\n",
            "        [3, 9, 9, 6, 9, 2, 5, 7, 5, 0]])\n",
            "tensor([[5, 1, 7, 8, 3, 1, 6, 8, 8, 9],\n",
            "        [2, 4, 4, 3, 4, 0, 2, 3, 7, 9],\n",
            "        [4, 2, 5, 8, 2, 8, 6, 2, 8, 5],\n",
            "        [9, 5, 9, 1, 0, 7, 7, 4, 9, 0],\n",
            "        [9, 3, 3, 4, 5, 5, 4, 2, 1, 4]])\n"
          ]
        },
        {
          "output_type": "execute_result",
          "data": {
            "text/plain": [
              "tensor([[ 8,  2,  1,  2,  9,  2,  9,  5,  4,  0],\n",
              "        [ 8,  9,  0,  9,  8,  3,  8,  7,  1, 18],\n",
              "        [ 0,  8,  7,  5,  3,  9,  5,  6,  9,  1],\n",
              "        [ 8,  9,  8,  6,  7,  1,  6,  7,  8,  3],\n",
              "        [ 3,  9,  9,  6,  9,  2,  5,  7,  5,  0]])"
            ]
          },
          "metadata": {},
          "execution_count": 76
        }
      ],
      "source": [
        "a = 0\n",
        "b = 10\n",
        "ar1 = torch.randint(low=a, high=b, size=(5,10))\n",
        "print(ar1)\n",
        "ar2 = torch.randint(low=a, high=b, size=(5,10))\n",
        "print(ar2)\n",
        "torch.where(ar1==ar2,ar1*2,ar1)"
      ]
    },
    {
      "cell_type": "markdown",
      "metadata": {
        "id": "Qe2oVr4p1RDJ"
      },
      "source": [
        "1.3.10 Заданы три двухмерных тензора `ar1`, `ar2` и `ar3` размерности (4, 7), состоящие из случайных целых чисел в пределах от 0 до 10. Обнулить все элементы `ar1`, которые больше соответствующих (находящихся в соответствующих позициях) элементов `ar2` и меньше соответствующих элементов `ar3`."
      ]
    },
    {
      "cell_type": "code",
      "execution_count": null,
      "metadata": {
        "colab": {
          "base_uri": "https://localhost:8080/"
        },
        "id": "rMNXqjruDr9f",
        "outputId": "7d4da91b-9a27-413c-dced-decd8c6d0902"
      },
      "outputs": [
        {
          "output_type": "stream",
          "name": "stdout",
          "text": [
            "tensor([[3, 3, 7, 0, 6, 7, 5],\n",
            "        [6, 7, 9, 1, 4, 6, 4],\n",
            "        [7, 2, 8, 6, 3, 3, 0],\n",
            "        [5, 9, 6, 8, 9, 3, 9]])\n",
            "tensor([[9, 6, 3, 5, 8, 2, 2],\n",
            "        [4, 3, 1, 5, 1, 9, 1],\n",
            "        [9, 6, 4, 4, 9, 6, 7],\n",
            "        [3, 7, 2, 1, 5, 8, 8]])\n",
            "tensor([[8, 6, 4, 2, 6, 4, 1],\n",
            "        [3, 1, 3, 3, 6, 4, 7],\n",
            "        [9, 4, 3, 4, 0, 6, 8],\n",
            "        [3, 9, 4, 9, 6, 7, 3]])\n"
          ]
        },
        {
          "output_type": "execute_result",
          "data": {
            "text/plain": [
              "tensor([[3, 3, 7, 0, 6, 7, 5],\n",
              "        [6, 7, 9, 1, 0, 6, 0],\n",
              "        [7, 2, 8, 6, 3, 3, 0],\n",
              "        [5, 9, 6, 0, 9, 3, 9]])"
            ]
          },
          "metadata": {},
          "execution_count": 77
        }
      ],
      "source": [
        "a = 0\n",
        "b = 10\n",
        "size =(4,7)\n",
        "ar1 = torch.randint(low=a, high=b, size=size)\n",
        "print(ar1)\n",
        "ar2 = torch.randint(low=a, high=b, size=size)\n",
        "print(ar2)\n",
        "ar3 = torch.randint(low=a, high=b, size=size)\n",
        "print(ar3)\n",
        "\n",
        "torch.where((ar1>ar2) & (ar1<ar3),0,ar1)"
      ]
    },
    {
      "cell_type": "markdown",
      "metadata": {
        "id": "BTcRVeYh1RDK"
      },
      "source": [
        "1.3.11 Задан двумерный тензор `ar1` размерности (20, 5), состоящий из случайных целых чисел в пределах от 0 до 20. Определить, в каких столбцах не менее 5 раз встречается значение, максимальное по своей строке."
      ]
    },
    {
      "cell_type": "code",
      "execution_count": null,
      "metadata": {
        "colab": {
          "base_uri": "https://localhost:8080/"
        },
        "id": "UJ1sJv8-E2hj",
        "outputId": "cd6f4941-7bd0-4ec4-a636-2653b042c44c"
      },
      "outputs": [
        {
          "output_type": "stream",
          "name": "stdout",
          "text": [
            "tensor([[13, 12, 10,  9,  6],\n",
            "        [ 6,  4,  3,  2, 16],\n",
            "        [10, 16, 13,  7, 12],\n",
            "        [ 4,  2,  2,  0,  1],\n",
            "        [13,  2, 12,  5,  2],\n",
            "        [18,  9,  4,  3, 12],\n",
            "        [ 2, 10, 18,  6, 10],\n",
            "        [12,  0,  7, 13,  7],\n",
            "        [16,  7, 17,  6,  2],\n",
            "        [ 7, 10, 18, 10, 19],\n",
            "        [ 3,  5, 14, 10,  1],\n",
            "        [ 1,  6, 18,  6, 16],\n",
            "        [ 0,  6, 14, 16,  5],\n",
            "        [16,  1, 17, 13,  6],\n",
            "        [ 9, 13,  0, 10, 13],\n",
            "        [12,  0,  7,  8,  9],\n",
            "        [ 0,  1, 14, 17, 16],\n",
            "        [11, 15,  1,  7, 14],\n",
            "        [ 9,  9, 18, 14,  5],\n",
            "        [18, 15,  3, 12,  9]])\n",
            "Counter({0: 6, 2: 6, 1: 3, 3: 3, 4: 2})\n",
            "Строка:  0\n",
            "Строка:  2\n"
          ]
        }
      ],
      "source": [
        "#Старое решение\n",
        "from collections import Counter\n",
        "a = 0\n",
        "b = 20\n",
        "size =(20,5)\n",
        "ar1 = torch.randint(low=a, high=b, size=size)\n",
        "print(ar1)\n",
        "_, indeces = torch.max(ar1, 1)\n",
        "\n",
        "c = Counter(indeces.numpy())\n",
        "print(c)\n",
        "for key, value in c.items():\n",
        "  if value>=5:\n",
        "    print(\"Строка: \",key)"
      ]
    },
    {
      "cell_type": "code",
      "source": [
        "#Новое решение\n",
        "ar1_max = torch.where(ar1 == ar1.max(dim=1)[0].view(-1, 1), 1, 0)\n",
        "ar1_max"
      ],
      "metadata": {
        "colab": {
          "base_uri": "https://localhost:8080/"
        },
        "id": "GynuKDUO5Hsi",
        "outputId": "e81d83f1-e244-455c-c921-7e987bd05b1b"
      },
      "execution_count": null,
      "outputs": [
        {
          "output_type": "execute_result",
          "data": {
            "text/plain": [
              "tensor([[1, 0, 0, 0, 0],\n",
              "        [0, 0, 0, 0, 1],\n",
              "        [0, 1, 0, 0, 0],\n",
              "        [1, 0, 0, 0, 0],\n",
              "        [1, 0, 0, 0, 0],\n",
              "        [1, 0, 0, 0, 0],\n",
              "        [0, 0, 1, 0, 0],\n",
              "        [0, 0, 0, 1, 0],\n",
              "        [0, 0, 1, 0, 0],\n",
              "        [0, 0, 0, 0, 1],\n",
              "        [0, 0, 1, 0, 0],\n",
              "        [0, 0, 1, 0, 0],\n",
              "        [0, 0, 0, 1, 0],\n",
              "        [0, 0, 1, 0, 0],\n",
              "        [0, 1, 0, 0, 1],\n",
              "        [1, 0, 0, 0, 0],\n",
              "        [0, 0, 0, 1, 0],\n",
              "        [0, 1, 0, 0, 0],\n",
              "        [0, 0, 1, 0, 0],\n",
              "        [1, 0, 0, 0, 0]])"
            ]
          },
          "metadata": {},
          "execution_count": 79
        }
      ]
    },
    {
      "cell_type": "code",
      "source": [
        "ar1_max.sum(dim=0)"
      ],
      "metadata": {
        "colab": {
          "base_uri": "https://localhost:8080/"
        },
        "id": "Ikv1CzDq5Z7X",
        "outputId": "5ea68e78-27bd-410a-da1e-1acb615dda1e"
      },
      "execution_count": null,
      "outputs": [
        {
          "output_type": "execute_result",
          "data": {
            "text/plain": [
              "tensor([6, 3, 6, 3, 3])"
            ]
          },
          "metadata": {},
          "execution_count": 80
        }
      ]
    },
    {
      "cell_type": "code",
      "source": [
        "(ar1_max.sum(dim=0) >=5).nonzero(as_tuple=True)[0]"
      ],
      "metadata": {
        "colab": {
          "base_uri": "https://localhost:8080/"
        },
        "id": "PXJShNr85caq",
        "outputId": "57c6aeeb-056b-4f02-87bd-cfc41191cf5d"
      },
      "execution_count": null,
      "outputs": [
        {
          "output_type": "execute_result",
          "data": {
            "text/plain": [
              "tensor([0, 2])"
            ]
          },
          "metadata": {},
          "execution_count": 81
        }
      ]
    },
    {
      "cell_type": "markdown",
      "metadata": {
        "id": "ZeYlNWNE1RDK"
      },
      "source": [
        "1.3.12 Задан двумерный тензор `ar1` размерности (4, 7), состоящий из случайных  чисел в пределах от 0 до 1. Обнулить все значения в массиве, расположенные строго правее и ниже максимального элемента массива."
      ]
    },
    {
      "cell_type": "code",
      "execution_count": null,
      "metadata": {
        "colab": {
          "base_uri": "https://localhost:8080/"
        },
        "id": "2EClwpMsqPos",
        "outputId": "9351c13b-0b34-42ea-9a0d-9f4b762ebcec"
      },
      "outputs": [
        {
          "output_type": "stream",
          "name": "stdout",
          "text": [
            "tensor([[0, 1, 0, 1, 0, 0, 0],\n",
            "        [0, 1, 1, 0, 1, 0, 0],\n",
            "        [1, 0, 1, 1, 1, 1, 1],\n",
            "        [0, 1, 0, 0, 0, 0, 1]])\n"
          ]
        }
      ],
      "source": [
        "a = 0\n",
        "b = 1\n",
        "size =(4,7)\n",
        "ar1 = torch.randint(low=a, high=b+1, size=size)\n",
        "print(ar1)"
      ]
    },
    {
      "cell_type": "markdown",
      "metadata": {
        "id": "pYxX90B11RDL"
      },
      "source": [
        "1.3.13 Построить \"one-hot encoding\" для одномерного тензора, содержащего целые числа (длина вектора заранее неизвестна, набор значений заранее неизвестен, при этом в итоговой матрице должны присутствовать столбцы для всех натуральных чисел вплоть до максимального встречающегося в исходном массиве).\n",
        "\n",
        "Пример:\n",
        "\n",
        "для тензора `torch.tensor([2, 3, 2, 2, 2, 1])`.\n",
        "\n",
        "Ожидается результат:\n",
        "\n",
        "```python\n",
        "tensor([[0., 1., 0.],\n",
        "        [0., 0., 1.],\n",
        "        [0., 1., 0.],\n",
        "        [0., 1., 0.],\n",
        "        [0., 1., 0.],\n",
        "        [1., 0., 0.]])\n",
        "```"
      ]
    },
    {
      "cell_type": "code",
      "source": [
        "t1 = torch.tensor([2, 3, 2, 2, 2, 1])\n",
        "t1"
      ],
      "metadata": {
        "colab": {
          "base_uri": "https://localhost:8080/"
        },
        "id": "vzhqz7ic4mu0",
        "outputId": "fab48db4-45d6-426c-8a75-e12bd94ad885"
      },
      "execution_count": null,
      "outputs": [
        {
          "output_type": "execute_result",
          "data": {
            "text/plain": [
              "tensor([2, 3, 2, 2, 2, 1])"
            ]
          },
          "metadata": {},
          "execution_count": 83
        }
      ]
    },
    {
      "cell_type": "code",
      "source": [
        "t2 = torch.zeros(t1.size()[0], t1.max()+1)\n",
        "t2"
      ],
      "metadata": {
        "colab": {
          "base_uri": "https://localhost:8080/"
        },
        "id": "QXdUuD0K4oun",
        "outputId": "86bd63f9-00f1-42da-e817-488c51fcdab8"
      },
      "execution_count": null,
      "outputs": [
        {
          "output_type": "execute_result",
          "data": {
            "text/plain": [
              "tensor([[0., 0., 0., 0.],\n",
              "        [0., 0., 0., 0.],\n",
              "        [0., 0., 0., 0.],\n",
              "        [0., 0., 0., 0.],\n",
              "        [0., 0., 0., 0.],\n",
              "        [0., 0., 0., 0.]])"
            ]
          },
          "metadata": {},
          "execution_count": 84
        }
      ]
    },
    {
      "cell_type": "code",
      "source": [
        "t2[torch.arange(t1.size()[0]), t1] = 1\n",
        "t2[:, 1:]"
      ],
      "metadata": {
        "colab": {
          "base_uri": "https://localhost:8080/"
        },
        "id": "J0_-ybM34q6f",
        "outputId": "d7f8ecc6-fd56-464f-f866-462a601ca881"
      },
      "execution_count": null,
      "outputs": [
        {
          "output_type": "execute_result",
          "data": {
            "text/plain": [
              "tensor([[0., 1., 0.],\n",
              "        [0., 0., 1.],\n",
              "        [0., 1., 0.],\n",
              "        [0., 1., 0.],\n",
              "        [0., 1., 0.],\n",
              "        [1., 0., 0.]])"
            ]
          },
          "metadata": {},
          "execution_count": 85
        }
      ]
    },
    {
      "cell_type": "markdown",
      "metadata": {
        "id": "GYU8DmNTDLN8"
      },
      "source": [
        "1.3.14 Создать тензор `arr` из 20 случайных целых чисел от 0 до 100. Найти самое частое значение в тензоре.\n",
        "Найти индексы в тензоре, соответствующие самому частому значению. Проверить, как работет алгоритм при двух значениях, имеющих наибольшую встречаемость, предложить приемлемое поведение алгоритма для этого случая."
      ]
    },
    {
      "cell_type": "code",
      "source": [
        "ar1 = torch.randint(0, 100, (20, ))\n",
        "\n",
        "ar1"
      ],
      "metadata": {
        "colab": {
          "base_uri": "https://localhost:8080/"
        },
        "id": "27oQOMtOD-q_",
        "outputId": "d73ea80e-f8b0-42b4-f01d-3339568f9c9c"
      },
      "execution_count": null,
      "outputs": [
        {
          "output_type": "execute_result",
          "data": {
            "text/plain": [
              "tensor([75, 34, 89, 64, 54, 17, 74, 82, 55, 91, 49, 20,  2, 98, 17, 82, 69, 45,\n",
              "        74, 48])"
            ]
          },
          "metadata": {},
          "execution_count": 86
        }
      ]
    },
    {
      "cell_type": "code",
      "source": [
        "val = torch.bincount(ar1).argmax()\n",
        "val"
      ],
      "metadata": {
        "colab": {
          "base_uri": "https://localhost:8080/"
        },
        "id": "p84EzQlwE4e-",
        "outputId": "1eb90a1f-9e60-45b5-b569-c07fa27ee453"
      },
      "execution_count": null,
      "outputs": [
        {
          "output_type": "execute_result",
          "data": {
            "text/plain": [
              "tensor(17)"
            ]
          },
          "metadata": {},
          "execution_count": 87
        }
      ]
    },
    {
      "cell_type": "code",
      "source": [
        "(ar1 == val).nonzero().flatten()"
      ],
      "metadata": {
        "colab": {
          "base_uri": "https://localhost:8080/"
        },
        "id": "5F1-S989FbtK",
        "outputId": "4606d70b-02f4-4bfd-846f-ba73681ab182"
      },
      "execution_count": null,
      "outputs": [
        {
          "output_type": "execute_result",
          "data": {
            "text/plain": [
              "tensor([ 5, 14])"
            ]
          },
          "metadata": {},
          "execution_count": 88
        }
      ]
    },
    {
      "cell_type": "markdown",
      "metadata": {
        "id": "UenAEfEG1RDN"
      },
      "source": [
        "## 1.4 Математические задачи"
      ]
    },
    {
      "cell_type": "markdown",
      "metadata": {
        "id": "6weDrqJR1RDN"
      },
      "source": [
        "1.4.1 Приблизительно (с погрешностью порядка 1%) рассчитать на какой части интервала от 0 до 10 значение функции x * sin(x) больше 0.5."
      ]
    },
    {
      "cell_type": "code",
      "source": [
        "X = torch.arange(0, 10, 0.01)\n",
        "Y = X * torch.sin(X)\n",
        "mask_05 = Y > 0.5"
      ],
      "metadata": {
        "id": "2NXJzoOQFjfm"
      },
      "execution_count": null,
      "outputs": []
    },
    {
      "cell_type": "code",
      "source": [
        "mask_split = ((X[mask_05][1:] - X[mask_05][:-1]) > 0.1).nonzero()\n",
        "X_masked = X[mask_05][1:]"
      ],
      "metadata": {
        "id": "uAS8h6FM1z4_"
      },
      "execution_count": null,
      "outputs": []
    },
    {
      "cell_type": "code",
      "source": [
        "X_masked[0], X_masked[mask_split[0]-1], X_masked[mask_split[0]], X_masked[-1]"
      ],
      "metadata": {
        "colab": {
          "base_uri": "https://localhost:8080/"
        },
        "id": "uhOseFnw6iDe",
        "outputId": "8bc6cc32-cd44-49b7-f1e3-ea536d738782"
      },
      "execution_count": null,
      "outputs": [
        {
          "output_type": "execute_result",
          "data": {
            "text/plain": [
              "(tensor(0.7600), tensor([2.9700]), tensor([6.3700]), tensor(9.3700))"
            ]
          },
          "metadata": {},
          "execution_count": 91
        }
      ]
    },
    {
      "cell_type": "code",
      "source": [
        "X_masked"
      ],
      "metadata": {
        "colab": {
          "base_uri": "https://localhost:8080/"
        },
        "id": "FrY4ouvv5rRA",
        "outputId": "60d1926d-2585-43c6-ab1e-6770823d1ab1"
      },
      "execution_count": null,
      "outputs": [
        {
          "output_type": "execute_result",
          "data": {
            "text/plain": [
              "tensor([0.7600, 0.7700, 0.7800, 0.7900, 0.8000, 0.8100, 0.8200, 0.8300, 0.8400,\n",
              "        0.8500, 0.8600, 0.8700, 0.8800, 0.8900, 0.9000, 0.9100, 0.9200, 0.9300,\n",
              "        0.9400, 0.9500, 0.9600, 0.9700, 0.9800, 0.9900, 1.0000, 1.0100, 1.0200,\n",
              "        1.0300, 1.0400, 1.0500, 1.0600, 1.0700, 1.0800, 1.0900, 1.1000, 1.1100,\n",
              "        1.1200, 1.1300, 1.1400, 1.1500, 1.1600, 1.1700, 1.1800, 1.1900, 1.2000,\n",
              "        1.2100, 1.2200, 1.2300, 1.2400, 1.2500, 1.2600, 1.2700, 1.2800, 1.2900,\n",
              "        1.3000, 1.3100, 1.3200, 1.3300, 1.3400, 1.3500, 1.3600, 1.3700, 1.3800,\n",
              "        1.3900, 1.4000, 1.4100, 1.4200, 1.4300, 1.4400, 1.4500, 1.4600, 1.4700,\n",
              "        1.4800, 1.4900, 1.5000, 1.5100, 1.5200, 1.5300, 1.5400, 1.5500, 1.5600,\n",
              "        1.5700, 1.5800, 1.5900, 1.6000, 1.6100, 1.6200, 1.6300, 1.6400, 1.6500,\n",
              "        1.6600, 1.6700, 1.6800, 1.6900, 1.7000, 1.7100, 1.7200, 1.7300, 1.7400,\n",
              "        1.7500, 1.7600, 1.7700, 1.7800, 1.7900, 1.8000, 1.8100, 1.8200, 1.8300,\n",
              "        1.8400, 1.8500, 1.8600, 1.8700, 1.8800, 1.8900, 1.9000, 1.9100, 1.9200,\n",
              "        1.9300, 1.9400, 1.9500, 1.9600, 1.9700, 1.9800, 1.9900, 2.0000, 2.0100,\n",
              "        2.0200, 2.0300, 2.0400, 2.0500, 2.0600, 2.0700, 2.0800, 2.0900, 2.1000,\n",
              "        2.1100, 2.1200, 2.1300, 2.1400, 2.1500, 2.1600, 2.1700, 2.1800, 2.1900,\n",
              "        2.2000, 2.2100, 2.2200, 2.2300, 2.2400, 2.2500, 2.2600, 2.2700, 2.2800,\n",
              "        2.2900, 2.3000, 2.3100, 2.3200, 2.3300, 2.3400, 2.3500, 2.3600, 2.3700,\n",
              "        2.3800, 2.3900, 2.4000, 2.4100, 2.4200, 2.4300, 2.4400, 2.4500, 2.4600,\n",
              "        2.4700, 2.4800, 2.4900, 2.5000, 2.5100, 2.5200, 2.5300, 2.5400, 2.5500,\n",
              "        2.5600, 2.5700, 2.5800, 2.5900, 2.6000, 2.6100, 2.6200, 2.6300, 2.6400,\n",
              "        2.6500, 2.6600, 2.6700, 2.6800, 2.6900, 2.7000, 2.7100, 2.7200, 2.7300,\n",
              "        2.7400, 2.7500, 2.7600, 2.7700, 2.7800, 2.7900, 2.8000, 2.8100, 2.8200,\n",
              "        2.8300, 2.8400, 2.8500, 2.8600, 2.8700, 2.8800, 2.8900, 2.9000, 2.9100,\n",
              "        2.9200, 2.9300, 2.9400, 2.9500, 2.9600, 2.9700, 6.3700, 6.3800, 6.3900,\n",
              "        6.4000, 6.4100, 6.4200, 6.4300, 6.4400, 6.4500, 6.4600, 6.4700, 6.4800,\n",
              "        6.4900, 6.5000, 6.5100, 6.5200, 6.5300, 6.5400, 6.5500, 6.5600, 6.5700,\n",
              "        6.5800, 6.5900, 6.6000, 6.6100, 6.6200, 6.6300, 6.6400, 6.6500, 6.6600,\n",
              "        6.6700, 6.6800, 6.6900, 6.7000, 6.7100, 6.7200, 6.7300, 6.7400, 6.7500,\n",
              "        6.7600, 6.7700, 6.7800, 6.7900, 6.8000, 6.8100, 6.8200, 6.8300, 6.8400,\n",
              "        6.8500, 6.8600, 6.8700, 6.8800, 6.8900, 6.9000, 6.9100, 6.9200, 6.9300,\n",
              "        6.9400, 6.9500, 6.9600, 6.9700, 6.9800, 6.9900, 7.0000, 7.0100, 7.0200,\n",
              "        7.0300, 7.0400, 7.0500, 7.0600, 7.0700, 7.0800, 7.0900, 7.1000, 7.1100,\n",
              "        7.1200, 7.1300, 7.1400, 7.1500, 7.1600, 7.1700, 7.1800, 7.1900, 7.2000,\n",
              "        7.2100, 7.2200, 7.2300, 7.2400, 7.2500, 7.2600, 7.2700, 7.2800, 7.2900,\n",
              "        7.3000, 7.3100, 7.3200, 7.3300, 7.3400, 7.3500, 7.3600, 7.3700, 7.3800,\n",
              "        7.3900, 7.4000, 7.4100, 7.4200, 7.4300, 7.4400, 7.4500, 7.4600, 7.4700,\n",
              "        7.4800, 7.4900, 7.5000, 7.5100, 7.5200, 7.5300, 7.5400, 7.5500, 7.5600,\n",
              "        7.5700, 7.5800, 7.5900, 7.6000, 7.6100, 7.6200, 7.6300, 7.6400, 7.6500,\n",
              "        7.6600, 7.6700, 7.6800, 7.6900, 7.7000, 7.7100, 7.7200, 7.7300, 7.7400,\n",
              "        7.7500, 7.7600, 7.7700, 7.7800, 7.7900, 7.8000, 7.8100, 7.8200, 7.8300,\n",
              "        7.8400, 7.8500, 7.8600, 7.8700, 7.8800, 7.8900, 7.9000, 7.9100, 7.9200,\n",
              "        7.9300, 7.9400, 7.9500, 7.9600, 7.9700, 7.9800, 7.9900, 8.0000, 8.0100,\n",
              "        8.0200, 8.0300, 8.0400, 8.0500, 8.0600, 8.0700, 8.0800, 8.0900, 8.1000,\n",
              "        8.1100, 8.1200, 8.1300, 8.1400, 8.1500, 8.1600, 8.1700, 8.1800, 8.1900,\n",
              "        8.2000, 8.2100, 8.2200, 8.2300, 8.2400, 8.2500, 8.2600, 8.2700, 8.2800,\n",
              "        8.2900, 8.3000, 8.3100, 8.3200, 8.3300, 8.3400, 8.3500, 8.3600, 8.3700,\n",
              "        8.3800, 8.3900, 8.4000, 8.4100, 8.4200, 8.4300, 8.4400, 8.4500, 8.4600,\n",
              "        8.4700, 8.4800, 8.4900, 8.5000, 8.5100, 8.5200, 8.5300, 8.5400, 8.5500,\n",
              "        8.5600, 8.5700, 8.5800, 8.5900, 8.6000, 8.6100, 8.6200, 8.6300, 8.6400,\n",
              "        8.6500, 8.6600, 8.6700, 8.6800, 8.6900, 8.7000, 8.7100, 8.7200, 8.7300,\n",
              "        8.7400, 8.7500, 8.7600, 8.7700, 8.7800, 8.7900, 8.8000, 8.8100, 8.8200,\n",
              "        8.8300, 8.8400, 8.8500, 8.8600, 8.8700, 8.8800, 8.8900, 8.9000, 8.9100,\n",
              "        8.9200, 8.9300, 8.9400, 8.9500, 8.9600, 8.9700, 8.9800, 8.9900, 9.0000,\n",
              "        9.0100, 9.0200, 9.0300, 9.0400, 9.0500, 9.0600, 9.0700, 9.0800, 9.0900,\n",
              "        9.1000, 9.1100, 9.1200, 9.1300, 9.1400, 9.1500, 9.1600, 9.1700, 9.1800,\n",
              "        9.1900, 9.2000, 9.2100, 9.2200, 9.2300, 9.2400, 9.2500, 9.2600, 9.2700,\n",
              "        9.2800, 9.2900, 9.3000, 9.3100, 9.3200, 9.3300, 9.3400, 9.3500, 9.3600,\n",
              "        9.3700])"
            ]
          },
          "metadata": {},
          "execution_count": 92
        }
      ]
    },
    {
      "cell_type": "markdown",
      "metadata": {
        "id": "B9xAv8TR1RDN"
      },
      "source": [
        "1.4.2 Найти все простые числа в пределах ста. (Для решения предлагается использовать Решето Эратосфена) Использовать не более 1 цикла (желательно)."
      ]
    },
    {
      "cell_type": "code",
      "source": [
        "a = torch.arange(1, 100).reshape(99, 1)\n",
        "b = torch.arange(1, 100).repeat(99, 1)\n",
        "print(a,b)"
      ],
      "metadata": {
        "id": "Imho5wPVGbBz",
        "colab": {
          "base_uri": "https://localhost:8080/"
        },
        "outputId": "a5806d39-ac05-4695-d460-10a2c3b458eb"
      },
      "execution_count": null,
      "outputs": [
        {
          "output_type": "stream",
          "name": "stdout",
          "text": [
            "tensor([[ 1],\n",
            "        [ 2],\n",
            "        [ 3],\n",
            "        [ 4],\n",
            "        [ 5],\n",
            "        [ 6],\n",
            "        [ 7],\n",
            "        [ 8],\n",
            "        [ 9],\n",
            "        [10],\n",
            "        [11],\n",
            "        [12],\n",
            "        [13],\n",
            "        [14],\n",
            "        [15],\n",
            "        [16],\n",
            "        [17],\n",
            "        [18],\n",
            "        [19],\n",
            "        [20],\n",
            "        [21],\n",
            "        [22],\n",
            "        [23],\n",
            "        [24],\n",
            "        [25],\n",
            "        [26],\n",
            "        [27],\n",
            "        [28],\n",
            "        [29],\n",
            "        [30],\n",
            "        [31],\n",
            "        [32],\n",
            "        [33],\n",
            "        [34],\n",
            "        [35],\n",
            "        [36],\n",
            "        [37],\n",
            "        [38],\n",
            "        [39],\n",
            "        [40],\n",
            "        [41],\n",
            "        [42],\n",
            "        [43],\n",
            "        [44],\n",
            "        [45],\n",
            "        [46],\n",
            "        [47],\n",
            "        [48],\n",
            "        [49],\n",
            "        [50],\n",
            "        [51],\n",
            "        [52],\n",
            "        [53],\n",
            "        [54],\n",
            "        [55],\n",
            "        [56],\n",
            "        [57],\n",
            "        [58],\n",
            "        [59],\n",
            "        [60],\n",
            "        [61],\n",
            "        [62],\n",
            "        [63],\n",
            "        [64],\n",
            "        [65],\n",
            "        [66],\n",
            "        [67],\n",
            "        [68],\n",
            "        [69],\n",
            "        [70],\n",
            "        [71],\n",
            "        [72],\n",
            "        [73],\n",
            "        [74],\n",
            "        [75],\n",
            "        [76],\n",
            "        [77],\n",
            "        [78],\n",
            "        [79],\n",
            "        [80],\n",
            "        [81],\n",
            "        [82],\n",
            "        [83],\n",
            "        [84],\n",
            "        [85],\n",
            "        [86],\n",
            "        [87],\n",
            "        [88],\n",
            "        [89],\n",
            "        [90],\n",
            "        [91],\n",
            "        [92],\n",
            "        [93],\n",
            "        [94],\n",
            "        [95],\n",
            "        [96],\n",
            "        [97],\n",
            "        [98],\n",
            "        [99]]) tensor([[ 1,  2,  3,  ..., 97, 98, 99],\n",
            "        [ 1,  2,  3,  ..., 97, 98, 99],\n",
            "        [ 1,  2,  3,  ..., 97, 98, 99],\n",
            "        ...,\n",
            "        [ 1,  2,  3,  ..., 97, 98, 99],\n",
            "        [ 1,  2,  3,  ..., 97, 98, 99],\n",
            "        [ 1,  2,  3,  ..., 97, 98, 99]])\n"
          ]
        }
      ]
    },
    {
      "cell_type": "code",
      "source": [
        "a % b"
      ],
      "metadata": {
        "colab": {
          "base_uri": "https://localhost:8080/"
        },
        "id": "BPg9_u9zHoZY",
        "outputId": "c4bfdf70-5c98-499b-9c0f-8a9c555d2114"
      },
      "execution_count": null,
      "outputs": [
        {
          "output_type": "execute_result",
          "data": {
            "text/plain": [
              "tensor([[ 0,  1,  1,  ...,  1,  1,  1],\n",
              "        [ 0,  0,  2,  ...,  2,  2,  2],\n",
              "        [ 0,  1,  0,  ...,  3,  3,  3],\n",
              "        ...,\n",
              "        [ 0,  1,  1,  ...,  0, 97, 97],\n",
              "        [ 0,  0,  2,  ...,  1,  0, 98],\n",
              "        [ 0,  1,  0,  ...,  2,  1,  0]])"
            ]
          },
          "metadata": {},
          "execution_count": 94
        }
      ]
    },
    {
      "cell_type": "markdown",
      "metadata": {
        "id": "AHupFoTR1RDN"
      },
      "source": [
        "1.4.3 Найти евклидово расстояние между двумя одномерными тензорами одинаковой размерности, не используя готовые решения из библиотек."
      ]
    },
    {
      "cell_type": "code",
      "source": [
        "a = torch.tensor([1, 1])\n",
        "b = torch.tensor([2, 2])\n",
        "\n",
        "torch.sqrt(torch.pow(b - a, 2))"
      ],
      "metadata": {
        "colab": {
          "base_uri": "https://localhost:8080/"
        },
        "id": "CWRgznkvfTuv",
        "outputId": "969c8ef7-b268-4847-9eb0-e22c8ac4329a"
      },
      "execution_count": null,
      "outputs": [
        {
          "output_type": "execute_result",
          "data": {
            "text/plain": [
              "tensor([1., 1.])"
            ]
          },
          "metadata": {},
          "execution_count": 95
        }
      ]
    },
    {
      "cell_type": "markdown",
      "metadata": {
        "id": "j-ZvjWDKDVMQ"
      },
      "source": [
        "1.4.4 Создать двумерный тензор 20 на 3, содержащий случайные целые числа от 0 до 100.\n",
        "Интерпретируя тензор как 20 векторов из 3х компонент, отсортировать его по длине векторов."
      ]
    },
    {
      "cell_type": "code",
      "source": [
        "#Старое решение\n",
        "df = torch.randint(0, 100, (20, 3))\n",
        "len = torch.sqrt(torch.pow(df, 2).sum(1))\n",
        "print(len)\n",
        "torch.tensor([\n",
        "    x[0]\n",
        "    for x in sorted(list(zip(df.cpu().detach().numpy().tolist(), len.cpu().detach().numpy())), key = lambda x: x[1])\n",
        "  ])"
      ],
      "metadata": {
        "colab": {
          "base_uri": "https://localhost:8080/"
        },
        "id": "UtvE5aS2KgZA",
        "outputId": "1c8fa696-ff4c-4fbf-b5b6-9b0fd3babc4d"
      },
      "execution_count": null,
      "outputs": [
        {
          "output_type": "stream",
          "name": "stdout",
          "text": [
            "tensor([ 72.2634,  90.7855,  46.2385,  96.0156, 120.2705,  89.0000,  56.5420,\n",
            "         78.3135, 108.1018, 117.5840, 107.0467, 106.8363, 126.4160,  88.1079,\n",
            "         98.6205, 100.2896,  89.6939, 103.7882, 116.3658,  45.3982])\n"
          ]
        },
        {
          "output_type": "execute_result",
          "data": {
            "text/plain": [
              "tensor([[ 2, 11, 44],\n",
              "        [19, 39, 16],\n",
              "        [44,  6, 35],\n",
              "        [55,  9, 46],\n",
              "        [18, 60, 47],\n",
              "        [65, 17, 57],\n",
              "        [36, 15, 80],\n",
              "        [22, 75, 44],\n",
              "        [ 9, 81, 40],\n",
              "        [37, 31, 83],\n",
              "        [58, 11, 79],\n",
              "        [15, 92, 37],\n",
              "        [46, 84, 40],\n",
              "        [62, 53, 69],\n",
              "        [ 5, 45, 97],\n",
              "        [81, 63, 34],\n",
              "        [39, 68, 86],\n",
              "        [87,  4, 79],\n",
              "        [65, 96, 32],\n",
              "        [59, 76, 82]])"
            ]
          },
          "metadata": {},
          "execution_count": 96
        }
      ]
    },
    {
      "cell_type": "code",
      "source": [
        "#Новое решение"
      ],
      "metadata": {
        "id": "RzYQWz6V7CO8"
      },
      "execution_count": null,
      "outputs": []
    },
    {
      "cell_type": "code",
      "source": [
        "torch.sort(len)"
      ],
      "metadata": {
        "colab": {
          "base_uri": "https://localhost:8080/"
        },
        "id": "M4KcfKXo7Kon",
        "outputId": "0de68411-90ce-4c39-9533-841b90e32cf5"
      },
      "execution_count": null,
      "outputs": [
        {
          "output_type": "execute_result",
          "data": {
            "text/plain": [
              "torch.return_types.sort(\n",
              "values=tensor([ 45.3982,  46.2385,  56.5420,  72.2634,  78.3135,  88.1079,  89.0000,\n",
              "         89.6939,  90.7855,  96.0156,  98.6205, 100.2896, 103.7882, 106.8363,\n",
              "        107.0467, 108.1018, 116.3658, 117.5840, 120.2705, 126.4160]),\n",
              "indices=tensor([19,  2,  6,  0,  7, 13,  5, 16,  1,  3, 14, 15, 17, 11, 10,  8, 18,  9,\n",
              "         4, 12]))"
            ]
          },
          "metadata": {},
          "execution_count": 98
        }
      ]
    },
    {
      "cell_type": "code",
      "source": [
        "df[torch.sort(len)[1]]"
      ],
      "metadata": {
        "colab": {
          "base_uri": "https://localhost:8080/"
        },
        "id": "qtrw85ym7Mnm",
        "outputId": "777c38e2-b8b9-4f7a-89e7-276c9ab03f3e"
      },
      "execution_count": null,
      "outputs": [
        {
          "output_type": "execute_result",
          "data": {
            "text/plain": [
              "tensor([[ 2, 11, 44],\n",
              "        [19, 39, 16],\n",
              "        [44,  6, 35],\n",
              "        [55,  9, 46],\n",
              "        [18, 60, 47],\n",
              "        [65, 17, 57],\n",
              "        [36, 15, 80],\n",
              "        [22, 75, 44],\n",
              "        [ 9, 81, 40],\n",
              "        [37, 31, 83],\n",
              "        [58, 11, 79],\n",
              "        [15, 92, 37],\n",
              "        [46, 84, 40],\n",
              "        [62, 53, 69],\n",
              "        [ 5, 45, 97],\n",
              "        [81, 63, 34],\n",
              "        [39, 68, 86],\n",
              "        [87,  4, 79],\n",
              "        [65, 96, 32],\n",
              "        [59, 76, 82]])"
            ]
          },
          "metadata": {},
          "execution_count": 99
        }
      ]
    },
    {
      "cell_type": "markdown",
      "metadata": {
        "id": "IkBRFTKa1RDO"
      },
      "source": [
        "1.4.5 Найти \"локальные максимумы\" в одномерном тензоре (т.е. значения, большие предыдущего и последующего) `torch.tensor([1, 3, 7, 1, 2, 6, 0, 1])` и вывести их индексы."
      ]
    },
    {
      "cell_type": "code",
      "source": [
        "#Старое решение\n",
        "t = torch.tensor([1, 3, 7, 1, 2, 6, 0, 1])\n",
        "index = []\n",
        "for i in range(t.shape[0] - 2):\n",
        "  a, b, c = t[i:i+3]\n",
        "  if b > a and b > c:\n",
        "    index.append(i+1)\n",
        "index"
      ],
      "metadata": {
        "colab": {
          "base_uri": "https://localhost:8080/"
        },
        "id": "drEbSntIf1es",
        "outputId": "bf0c6ff6-2793-4aa9-bdad-5016d1f6f40f"
      },
      "execution_count": null,
      "outputs": [
        {
          "output_type": "execute_result",
          "data": {
            "text/plain": [
              "[2, 5]"
            ]
          },
          "metadata": {},
          "execution_count": 100
        }
      ]
    },
    {
      "cell_type": "code",
      "source": [
        "#Новое решение\n",
        "t = torch.tensor([1, 3, 7, 1, 2, 6, 0, 1])\n",
        "peaks = (t[1:-1] > t[:-2]) & (t[1:-1] > t[2:])\n",
        "indices = torch.where(peaks)[0]+1\n",
        "indices, t[indices]"
      ],
      "metadata": {
        "colab": {
          "base_uri": "https://localhost:8080/"
        },
        "id": "xyT6P5CY7s8t",
        "outputId": "c21d9cd5-57bf-4edc-fbc3-97ea0b1f015a"
      },
      "execution_count": null,
      "outputs": [
        {
          "output_type": "execute_result",
          "data": {
            "text/plain": [
              "(tensor([2, 5]), tensor([7, 6]))"
            ]
          },
          "metadata": {},
          "execution_count": 101
        }
      ]
    },
    {
      "cell_type": "markdown",
      "metadata": {
        "id": "VXD58rlc1RDP"
      },
      "source": [
        "1.4.6 Задан произвольный массив numpy (например массив из 100 случайных числе от 0 до 1). Необходимо найти в нем число наиболее близкое к заданному."
      ]
    },
    {
      "cell_type": "code",
      "source": [
        "df = torch.rand(100,)\n",
        "val = 0\n",
        "dist = (df - val).abs()\n",
        "df[dist.argmin()]"
      ],
      "metadata": {
        "colab": {
          "base_uri": "https://localhost:8080/"
        },
        "id": "QYoJ2b4NMrvf",
        "outputId": "85a930cd-b2dc-4b51-f663-634d672c1c0d"
      },
      "execution_count": null,
      "outputs": [
        {
          "output_type": "execute_result",
          "data": {
            "text/plain": [
              "tensor(0.0147)"
            ]
          },
          "metadata": {},
          "execution_count": 102
        }
      ]
    },
    {
      "cell_type": "markdown",
      "metadata": {
        "id": "81F_B2ij1RDP"
      },
      "source": [
        "1.4.7 Решить матричное уравнение `A*X*B=-C` - найти матрицу X. Где `A = [[-1, 2, 4], [-3, 1, 2], [-3, 0, 1]]`, `B=[[3, -1], [2, 1]]`, `C=[[7, 21], [11, 8], [8, 4]]`."
      ]
    },
    {
      "cell_type": "code",
      "source": [
        "A = torch.Tensor([[-1, 2, 4], [-3, 1, 2], [-3, 0, 1]])\n",
        "B = torch.Tensor([[3, -1], [2, 1]])\n",
        "C = torch.Tensor([[7, 21], [11, 8], [8, 4]])"
      ],
      "metadata": {
        "id": "5SL-3peW8AcE"
      },
      "execution_count": null,
      "outputs": []
    },
    {
      "cell_type": "markdown",
      "source": [
        "$$A \\cdot X \\cdot B = -C <=> X = A^{-1} \\cdot (-C) \\cdot B^{-1}$$"
      ],
      "metadata": {
        "id": "n3SH4l4N8HSZ"
      }
    },
    {
      "cell_type": "code",
      "source": [
        "torch.linalg.inv(A) @ (-C) @ torch.linalg.inv(B)"
      ],
      "metadata": {
        "colab": {
          "base_uri": "https://localhost:8080/"
        },
        "id": "J-Mzts8A8CQ0",
        "outputId": "aca63465-e369-4e84-e9ba-3e64c845c839"
      },
      "execution_count": null,
      "outputs": [
        {
          "output_type": "execute_result",
          "data": {
            "text/plain": [
              "tensor([[ 1.0000e+00, -1.1921e-07],\n",
              "        [-2.0000e+00,  1.0000e+00],\n",
              "        [ 3.0000e+00, -4.0000e+00]])"
            ]
          },
          "metadata": {},
          "execution_count": 104
        }
      ]
    },
    {
      "cell_type": "markdown",
      "metadata": {
        "id": "1P7O19bj1RDP"
      },
      "source": [
        "1.4.8 Проверить, является ли система векторов a1 = (3; −3; 0; 7),\n",
        "a2 = (2; 2; 4; 7), a3 = (1; 2; 3; 4), a4 = (5; −4; 1; 3) линейно зависимой?"
      ]
    },
    {
      "cell_type": "code",
      "source": [
        "a1 = torch.Tensor([3, -3, 0, 7])\n",
        "a2 = torch.Tensor([2, 2, 4, 7])\n",
        "a3 = torch.Tensor([1, 2, 3, 4])\n",
        "a4 = torch.Tensor([5, -4, 1, 3])"
      ],
      "metadata": {
        "id": "MSX-O_sEbwmf"
      },
      "execution_count": null,
      "outputs": []
    },
    {
      "cell_type": "code",
      "source": [
        "t = torch.stack((a1, a2, a3, a4), dim=0)\n",
        "t"
      ],
      "metadata": {
        "colab": {
          "base_uri": "https://localhost:8080/"
        },
        "id": "1FlJcEPj9jHa",
        "outputId": "023b350d-74a6-4154-c8d9-29981357f3dd"
      },
      "execution_count": null,
      "outputs": [
        {
          "output_type": "execute_result",
          "data": {
            "text/plain": [
              "tensor([[ 3., -3.,  0.,  7.],\n",
              "        [ 2.,  2.,  4.,  7.],\n",
              "        [ 1.,  2.,  3.,  4.],\n",
              "        [ 5., -4.,  1.,  3.]])"
            ]
          },
          "metadata": {},
          "execution_count": 108
        }
      ]
    },
    {
      "cell_type": "code",
      "source": [
        "torch.det(t)"
      ],
      "metadata": {
        "colab": {
          "base_uri": "https://localhost:8080/"
        },
        "id": "HREnRxa39k8Y",
        "outputId": "2beecea5-9407-4bd8-b80d-05acc6fbc8d2"
      },
      "execution_count": null,
      "outputs": [
        {
          "output_type": "execute_result",
          "data": {
            "text/plain": [
              "tensor(2.4385e-05)"
            ]
          },
          "metadata": {},
          "execution_count": 109
        }
      ]
    },
    {
      "cell_type": "markdown",
      "source": [
        "Т.к. матрица векторов вырождена, то система векторов линейно зависима. (детерминант = 0)"
      ],
      "metadata": {
        "id": "dcAN6nn79oy0"
      }
    },
    {
      "cell_type": "markdown",
      "metadata": {
        "id": "Jg_bzMVS1RDQ"
      },
      "source": [
        "1.4.9 Сгенирировать тензор из 200 случайных целых чисел, нормально распрделенных cо стандартным отклонением $\\sigma = 10$ и матожиданием $\\mu = 0$. Построить тензор гистограммы с 20 бинами."
      ]
    },
    {
      "cell_type": "code",
      "execution_count": null,
      "metadata": {
        "id": "4I4FQdgB7BMH"
      },
      "outputs": [],
      "source": [
        "t = torch.normal(0, 10, size=(1, 200))"
      ]
    },
    {
      "cell_type": "code",
      "source": [
        "torch.histogram(t, bins=20)"
      ],
      "metadata": {
        "colab": {
          "base_uri": "https://localhost:8080/"
        },
        "id": "8S77KYCjQPkU",
        "outputId": "f8c847d0-4913-4874-ff8a-3d382328fa9c"
      },
      "execution_count": null,
      "outputs": [
        {
          "output_type": "execute_result",
          "data": {
            "text/plain": [
              "torch.return_types.histogram(\n",
              "hist=tensor([ 4.,  3.,  5.,  8.,  7., 11., 16., 12., 19., 22., 16., 21., 18., 13.,\n",
              "        10.,  6.,  5.,  1.,  1.,  2.]),\n",
              "bin_edges=tensor([-25.9983, -23.2300, -20.4618, -17.6935, -14.9253, -12.1571,  -9.3888,\n",
              "         -6.6206,  -3.8523,  -1.0841,   1.6841,   4.4524,   7.2206,   9.9889,\n",
              "         12.7571,  15.5253,  18.2936,  21.0618,  23.8301,  26.5983,  29.3666]))"
            ]
          },
          "metadata": {},
          "execution_count": 113
        }
      ]
    }
  ],
  "metadata": {
    "colab": {
      "provenance": []
    },
    "kernelspec": {
      "display_name": "Python 3 (ipykernel)",
      "language": "python",
      "name": "python3"
    },
    "language_info": {
      "codemirror_mode": {
        "name": "ipython",
        "version": 3
      },
      "file_extension": ".py",
      "mimetype": "text/x-python",
      "name": "python",
      "nbconvert_exporter": "python",
      "pygments_lexer": "ipython3",
      "version": "3.9.7"
    }
  },
  "nbformat": 4,
  "nbformat_minor": 0
}