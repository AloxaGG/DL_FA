{
  "cells": [
    {
      "cell_type": "markdown",
      "id": "3a564d5f",
      "metadata": {
        "id": "3a564d5f"
      },
      "source": [
        "# Введение в RL и пакет Gymnasium\n",
        "\n",
        "__Автор задач: Блохин Н.В. (NVBlokhin@fa.ru)__\n",
        "\n",
        "Материалы:\n",
        "* https://gymnasium.farama.org/\n",
        "* https://pypi.org/project/ufal.pybox2d/\n",
        "* https://gymnasium.farama.org/tutorials/gymnasium_basics/environment_creation/\n",
        "* https://gymnasium.farama.org/api/spaces/fundamental/\n",
        "* https://gymnasium.farama.org/environments/toy_text/blackjack/"
      ]
    },
    {
      "cell_type": "code",
      "source": [
        "!pip install gymnasium"
      ],
      "metadata": {
        "colab": {
          "base_uri": "https://localhost:8080/"
        },
        "id": "aeFh8znHy5h9",
        "outputId": "149e8b4c-1764-4a61-c4b0-84c08d7d473c"
      },
      "id": "aeFh8znHy5h9",
      "execution_count": null,
      "outputs": [
        {
          "output_type": "stream",
          "name": "stdout",
          "text": [
            "Collecting gymnasium\n",
            "  Downloading gymnasium-0.29.1-py3-none-any.whl (953 kB)\n",
            "\u001b[2K     \u001b[90m━━━━━━━━━━━━━━━━━━━━━━━━━━━━━━━━━━━━━━━━\u001b[0m \u001b[32m953.9/953.9 kB\u001b[0m \u001b[31m4.0 MB/s\u001b[0m eta \u001b[36m0:00:00\u001b[0m\n",
            "\u001b[?25hRequirement already satisfied: numpy>=1.21.0 in /usr/local/lib/python3.10/dist-packages (from gymnasium) (1.23.5)\n",
            "Requirement already satisfied: cloudpickle>=1.2.0 in /usr/local/lib/python3.10/dist-packages (from gymnasium) (2.2.1)\n",
            "Requirement already satisfied: typing-extensions>=4.3.0 in /usr/local/lib/python3.10/dist-packages (from gymnasium) (4.5.0)\n",
            "Collecting farama-notifications>=0.0.1 (from gymnasium)\n",
            "  Downloading Farama_Notifications-0.0.4-py3-none-any.whl (2.5 kB)\n",
            "Installing collected packages: farama-notifications, gymnasium\n",
            "Successfully installed farama-notifications-0.0.4 gymnasium-0.29.1\n"
          ]
        }
      ]
    },
    {
      "cell_type": "code",
      "execution_count": null,
      "metadata": {
        "id": "1X3C6Utwu-N4"
      },
      "outputs": [],
      "source": [
        "import numpy as np\n",
        "import matplotlib.pyplot as plt\n",
        "from IPython import display\n",
        "import gymnasium as gym\n",
        "from gymnasium.wrappers.time_limit import TimeLimit"
      ],
      "id": "1X3C6Utwu-N4"
    },
    {
      "cell_type": "markdown",
      "id": "c9ecd663",
      "metadata": {
        "id": "c9ecd663"
      },
      "source": [
        "## Задачи для совместного разбора"
      ]
    },
    {
      "cell_type": "markdown",
      "id": "96b79f4f",
      "metadata": {
        "id": "96b79f4f"
      },
      "source": [
        "1. Рассмотрите пример создания окружения `gymnasium` и основные этапы взаимодействия с этим окружением.\n",
        "<img src=\"https://gymnasium.farama.org/_images/AE_loop.png\" width=\"300\"/>"
      ]
    },
    {
      "cell_type": "markdown",
      "metadata": {
        "id": "A9G1g5Afu-N6"
      },
      "source": [
        "Создание окружения"
      ],
      "id": "A9G1g5Afu-N6"
    },
    {
      "cell_type": "code",
      "source": [
        "#!pip install gymnasium[classic_control]"
      ],
      "metadata": {
        "id": "m058Q6nuy2jM"
      },
      "id": "m058Q6nuy2jM",
      "execution_count": null,
      "outputs": []
    },
    {
      "cell_type": "code",
      "execution_count": null,
      "metadata": {
        "colab": {
          "base_uri": "https://localhost:8080/",
          "height": 431
        },
        "id": "vLfjWJisu-N7",
        "outputId": "b62fe9df-e0f6-4153-a96c-557f0f7e6b26"
      },
      "outputs": [
        {
          "output_type": "stream",
          "name": "stdout",
          "text": [
            "Observation space: Box([-1.2  -0.07], [0.6  0.07], (2,), float32)\n",
            "Action space: Discrete(3)\n"
          ]
        },
        {
          "output_type": "display_data",
          "data": {
            "text/plain": [
              "<Figure size 640x480 with 1 Axes>"
            ],
            "image/png": "[encoded data removed]"
          },
          "metadata": {}
        }
      ],
      "source": [
        "# https://gymnasium.farama.org/environments/classic_control/\n",
        "env_name = \"MountainCar-v0\"\n",
        "\n",
        "env = gym.make(env_name, render_mode=\"rgb_array\")\n",
        "env.reset()\n",
        "\n",
        "plt.imshow(env.render())  # type: ignore\n",
        "print(\"Observation space:\", env.observation_space)\n",
        "print(\"Action space:\", env.action_space)"
      ],
      "id": "vLfjWJisu-N7"
    },
    {
      "cell_type": "markdown",
      "metadata": {
        "id": "sh99d5UMu-N7"
      },
      "source": [
        "Взаимодействие с окружением\n",
        "\n",
        "The three main methods of an environment are\n",
        "* `reset()`: reset environment to the initial state, return first observation and info\n",
        "* `render()`: show current environment state (a more colorful version :) )\n",
        "* `step(a)`: commit action `a` and return `(new_observation, reward, terminated, truncated, info)`\n",
        " * `new_observation`: an observation right after committing the action `a`\n",
        " * `reward`: a number representing your reward for committing action `a`\n",
        " * `terminated`: True if the MDP has just finished, False if still in progress\n",
        " * `truncated`: True if the number of steps elapsed >= max episode steps\n",
        " * `info`: some auxiliary stuff about what just happened. For now, ignore it."
      ],
      "id": "sh99d5UMu-N7"
    },
    {
      "cell_type": "code",
      "execution_count": null,
      "metadata": {
        "colab": {
          "base_uri": "https://localhost:8080/"
        },
        "id": "FNdG9Z5Ku-N8",
        "outputId": "d0364f0b-5bdc-4273-8f4d-fe0ba6443dd4"
      },
      "outputs": [
        {
          "output_type": "stream",
          "name": "stdout",
          "text": [
            "initial observation code: [-0.47260767  0.        ]\n",
            "initial observation code: [-0.49763566  0.        ]\n"
          ]
        }
      ],
      "source": [
        "obs0, info = env.reset(seed=0)\n",
        "print(\"initial observation code:\", obs0)\n",
        "# C сидом будет одно и то же (модель не обучится)\n",
        "obs0, info = env.reset(seed=1)\n",
        "print(\"initial observation code:\", obs0)"
      ],
      "id": "FNdG9Z5Ku-N8"
    },
    {
      "cell_type": "code",
      "execution_count": null,
      "metadata": {
        "colab": {
          "base_uri": "https://localhost:8080/"
        },
        "id": "PHSyRrB2u-N8",
        "outputId": "de729c93-e204-45aa-c283-bb7665b5c7bb"
      },
      "outputs": [
        {
          "output_type": "stream",
          "name": "stdout",
          "text": [
            "taking action 2 (right)\n",
            "new observation code: [-0.4968302   0.00080547]\n",
            "reward: -1.0\n",
            "is game over?: False\n"
          ]
        }
      ],
      "source": [
        "print(\"taking action 2 (right)\")\n",
        "new_obs, reward, is_done, _, _ = env.step(2)\n",
        "\n",
        "print(\"new observation code:\", new_obs)\n",
        "print(\"reward:\", reward)\n",
        "print(\"is game over?:\", is_done)\n",
        "\n",
        "# Note: as you can see, the car has moved to the right slightly (around 0.0005)"
      ],
      "id": "PHSyRrB2u-N8"
    },
    {
      "cell_type": "code",
      "source": [
        "state, _ = env.reset()\n",
        "\n",
        "is_done = False\n",
        "while not is_done:\n",
        "  action = 0\n",
        "  state, reward, terminated, truncated, _ = env.step(action)\n",
        "\n",
        "  is_done = terminated or truncated\n",
        "  print(action, reward)"
      ],
      "metadata": {
        "colab": {
          "base_uri": "https://localhost:8080/"
        },
        "id": "R16vbJ4tzvqM",
        "outputId": "b6692bcd-2f23-471c-c74c-f39d94b2c9c7"
      },
      "id": "R16vbJ4tzvqM",
      "execution_count": null,
      "outputs": [
        {
          "output_type": "stream",
          "name": "stdout",
          "text": [
            "0 -1.0\n",
            "0 -1.0\n",
            "0 -1.0\n",
            "0 -1.0\n",
            "0 -1.0\n",
            "0 -1.0\n",
            "0 -1.0\n",
            "0 -1.0\n",
            "0 -1.0\n",
            "0 -1.0\n",
            "0 -1.0\n",
            "0 -1.0\n",
            "0 -1.0\n",
            "0 -1.0\n",
            "0 -1.0\n",
            "0 -1.0\n",
            "0 -1.0\n",
            "0 -1.0\n",
            "0 -1.0\n",
            "0 -1.0\n",
            "0 -1.0\n",
            "0 -1.0\n",
            "0 -1.0\n",
            "0 -1.0\n",
            "0 -1.0\n",
            "0 -1.0\n",
            "0 -1.0\n",
            "0 -1.0\n",
            "0 -1.0\n",
            "0 -1.0\n",
            "0 -1.0\n",
            "0 -1.0\n",
            "0 -1.0\n",
            "0 -1.0\n",
            "0 -1.0\n",
            "0 -1.0\n",
            "0 -1.0\n",
            "0 -1.0\n",
            "0 -1.0\n",
            "0 -1.0\n",
            "0 -1.0\n",
            "0 -1.0\n",
            "0 -1.0\n",
            "0 -1.0\n",
            "0 -1.0\n",
            "0 -1.0\n",
            "0 -1.0\n",
            "0 -1.0\n",
            "0 -1.0\n",
            "0 -1.0\n",
            "0 -1.0\n",
            "0 -1.0\n",
            "0 -1.0\n",
            "0 -1.0\n",
            "0 -1.0\n",
            "0 -1.0\n",
            "0 -1.0\n",
            "0 -1.0\n",
            "0 -1.0\n",
            "0 -1.0\n",
            "0 -1.0\n",
            "0 -1.0\n",
            "0 -1.0\n",
            "0 -1.0\n",
            "0 -1.0\n",
            "0 -1.0\n",
            "0 -1.0\n",
            "0 -1.0\n",
            "0 -1.0\n",
            "0 -1.0\n",
            "0 -1.0\n",
            "0 -1.0\n",
            "0 -1.0\n",
            "0 -1.0\n",
            "0 -1.0\n",
            "0 -1.0\n",
            "0 -1.0\n",
            "0 -1.0\n",
            "0 -1.0\n",
            "0 -1.0\n",
            "0 -1.0\n",
            "0 -1.0\n",
            "0 -1.0\n",
            "0 -1.0\n",
            "0 -1.0\n",
            "0 -1.0\n",
            "0 -1.0\n",
            "0 -1.0\n",
            "0 -1.0\n",
            "0 -1.0\n",
            "0 -1.0\n",
            "0 -1.0\n",
            "0 -1.0\n",
            "0 -1.0\n",
            "0 -1.0\n",
            "0 -1.0\n",
            "0 -1.0\n",
            "0 -1.0\n",
            "0 -1.0\n",
            "0 -1.0\n",
            "0 -1.0\n",
            "0 -1.0\n",
            "0 -1.0\n",
            "0 -1.0\n",
            "0 -1.0\n",
            "0 -1.0\n",
            "0 -1.0\n",
            "0 -1.0\n",
            "0 -1.0\n",
            "0 -1.0\n",
            "0 -1.0\n",
            "0 -1.0\n",
            "0 -1.0\n",
            "0 -1.0\n",
            "0 -1.0\n",
            "0 -1.0\n",
            "0 -1.0\n",
            "0 -1.0\n",
            "0 -1.0\n",
            "0 -1.0\n",
            "0 -1.0\n",
            "0 -1.0\n",
            "0 -1.0\n",
            "0 -1.0\n",
            "0 -1.0\n",
            "0 -1.0\n",
            "0 -1.0\n",
            "0 -1.0\n",
            "0 -1.0\n",
            "0 -1.0\n",
            "0 -1.0\n",
            "0 -1.0\n",
            "0 -1.0\n",
            "0 -1.0\n",
            "0 -1.0\n",
            "0 -1.0\n",
            "0 -1.0\n",
            "0 -1.0\n",
            "0 -1.0\n",
            "0 -1.0\n",
            "0 -1.0\n",
            "0 -1.0\n",
            "0 -1.0\n",
            "0 -1.0\n",
            "0 -1.0\n",
            "0 -1.0\n",
            "0 -1.0\n",
            "0 -1.0\n",
            "0 -1.0\n",
            "0 -1.0\n",
            "0 -1.0\n",
            "0 -1.0\n",
            "0 -1.0\n",
            "0 -1.0\n",
            "0 -1.0\n",
            "0 -1.0\n",
            "0 -1.0\n",
            "0 -1.0\n",
            "0 -1.0\n",
            "0 -1.0\n",
            "0 -1.0\n",
            "0 -1.0\n",
            "0 -1.0\n",
            "0 -1.0\n",
            "0 -1.0\n",
            "0 -1.0\n",
            "0 -1.0\n",
            "0 -1.0\n",
            "0 -1.0\n",
            "0 -1.0\n",
            "0 -1.0\n",
            "0 -1.0\n",
            "0 -1.0\n",
            "0 -1.0\n",
            "0 -1.0\n",
            "0 -1.0\n",
            "0 -1.0\n",
            "0 -1.0\n",
            "0 -1.0\n",
            "0 -1.0\n",
            "0 -1.0\n",
            "0 -1.0\n",
            "0 -1.0\n",
            "0 -1.0\n",
            "0 -1.0\n",
            "0 -1.0\n",
            "0 -1.0\n",
            "0 -1.0\n",
            "0 -1.0\n",
            "0 -1.0\n",
            "0 -1.0\n",
            "0 -1.0\n",
            "0 -1.0\n",
            "0 -1.0\n",
            "0 -1.0\n",
            "0 -1.0\n",
            "0 -1.0\n",
            "0 -1.0\n",
            "0 -1.0\n",
            "0 -1.0\n"
          ]
        }
      ]
    },
    {
      "cell_type": "code",
      "source": [],
      "metadata": {
        "id": "zK9FYCUgz2so"
      },
      "id": "zK9FYCUgz2so",
      "execution_count": null,
      "outputs": []
    },
    {
      "cell_type": "markdown",
      "metadata": {
        "id": "vV0H9vNEu-N9"
      },
      "source": [
        "Пример стратегии"
      ],
      "id": "vV0H9vNEu-N9"
    },
    {
      "cell_type": "code",
      "execution_count": null,
      "metadata": {
        "id": "fO5nepvou-N-"
      },
      "outputs": [],
      "source": [
        "# Всегда двигаемся вправо\n",
        "def policy(obs: tuple[float, float], time: int) -> int:\n",
        "    position, velocity = obs\n",
        "    return actions[\"right\"]\n",
        "\n",
        "\n",
        "# Create env manually to set time limit\n",
        "TIME_LIMIT = 10\n",
        "env = TimeLimit(\n",
        "    gym.make(env_name, render_mode=\"rgb_array\"),\n",
        "    max_episode_steps=TIME_LIMIT + 1,\n",
        ")\n",
        "actions = {\"left\": 0, \"stop\": 1, \"right\": 2}"
      ],
      "id": "fO5nepvou-N-"
    },
    {
      "cell_type": "code",
      "execution_count": null,
      "metadata": {
        "colab": {
          "base_uri": "https://localhost:8080/",
          "height": 272
        },
        "id": "1-YsPk0tu-OA",
        "outputId": "b7e6d314-a4b5-4a9d-c87b-b8a28bbd7a7a"
      },
      "outputs": [
        {
          "output_type": "display_data",
          "data": {
            "text/plain": [
              "<Figure size 400x300 with 1 Axes>"
            ],
            "image/png": "[encoded data removed]"
          },
          "metadata": {}
        }
      ],
      "source": [
        "plt.figure(figsize=(4, 3))\n",
        "display.clear_output(wait=True)\n",
        "\n",
        "obs, _ = env.reset()\n",
        "for t in range(TIME_LIMIT):\n",
        "    plt.gca().clear()\n",
        "\n",
        "    action = policy(obs, t)  # Call your policy\n",
        "    obs, reward, done, _, _ = env.step(action)  # Pass the action chosen by the policy to the environment\n",
        "\n",
        "    # We don't do anything with reward here because MountainCar is a very simple environment,\n",
        "    # and reward is a constant -1. Therefore, your goal is to end the episode as quickly as possible.\n",
        "\n",
        "    # Draw game image on display.\n",
        "    plt.imshow(env.render())  # type: ignore\n",
        "\n",
        "    display.display(plt.gcf())\n",
        "    display.clear_output(wait=True)\n",
        "\n",
        "    if done:\n",
        "        print(\"Well done!\")\n",
        "        break\n",
        "else:\n",
        "    print(\"Time limit exceeded. Try again.\")\n",
        "\n",
        "display.clear_output(wait=True)"
      ],
      "id": "1-YsPk0tu-OA"
    },
    {
      "cell_type": "markdown",
      "id": "4d7b6d63",
      "metadata": {
        "id": "4d7b6d63"
      },
      "source": [
        "## Задачи для самостоятельного решения"
      ]
    },
    {
      "cell_type": "markdown",
      "id": "7f49190d",
      "metadata": {
        "id": "7f49190d"
      },
      "source": [
        "<p class=\"task\" id=\"1\"></p>\n",
        "\n",
        "1\\. Создайте окружение `Blackjack-v1`. Сыграйте `N=10000` игр, выбирая действие случайным образом. Посчитайте и выведите на экран долю выигранных игр.\n",
        "\n",
        "- [ ] Проверено на семинаре"
      ]
    },
    {
      "cell_type": "code",
      "source": [
        "from collections import defaultdict"
      ],
      "metadata": {
        "id": "3OdSZTzt-sTT"
      },
      "id": "3OdSZTzt-sTT",
      "execution_count": null,
      "outputs": []
    },
    {
      "cell_type": "code",
      "source": [
        "env_name = \"Blackjack-v1\"\n",
        "\n",
        "env = gym.make(env_name, render_mode=\"rgb_array\")\n",
        "env.reset()\n",
        "\n",
        "plt.imshow(env.render())  # type: ignore\n",
        "print(\"Observation space:\", env.observation_space)\n",
        "print(\"Action space:\", env.action_space)"
      ],
      "metadata": {
        "colab": {
          "base_uri": "https://localhost:8080/",
          "height": 470
        },
        "id": "MRn5jdps1qog",
        "outputId": "2314652d-fc18-4e5a-e77c-79a339d23e69"
      },
      "id": "MRn5jdps1qog",
      "execution_count": null,
      "outputs": [
        {
          "output_type": "stream",
          "name": "stdout",
          "text": [
            "Observation space: Tuple(Discrete(32), Discrete(11), Discrete(2))\n",
            "Action space: Discrete(2)\n"
          ]
        },
        {
          "output_type": "display_data",
          "data": {
            "text/plain": [
              "<Figure size 640x480 with 1 Axes>"
            ],
            "image/png": "[encoded data removed]"
          },
          "metadata": {}
        }
      ]
    },
    {
      "cell_type": "code",
      "source": [
        "class BlackjackAgentRandom:\n",
        "\n",
        "    def get_action(self, obs: tuple[int, int, bool]) -> int:\n",
        "        \"\"\"\n",
        "        Returns the best action with probability (1 - epsilon)\n",
        "        otherwise a random action with probability epsilon to ensure exploration.\n",
        "        \"\"\"\n",
        "        # with probability epsilon return a random action to explore the environment\n",
        "\n",
        "        return env.action_space.sample()"
      ],
      "metadata": {
        "id": "WmCe-KhM11PA"
      },
      "id": "WmCe-KhM11PA",
      "execution_count": null,
      "outputs": []
    },
    {
      "cell_type": "code",
      "source": [
        "from tqdm import tqdm"
      ],
      "metadata": {
        "id": "5jAWCXA1_CDE"
      },
      "id": "5jAWCXA1_CDE",
      "execution_count": null,
      "outputs": []
    },
    {
      "cell_type": "code",
      "source": [
        "env = \"Blackjack-v1\"\n",
        "\n",
        "agent = BlackjackAgentRandom(\n",
        ")\n",
        "\n",
        "env = gym.make(env_name, natural=False, render_mode=\"rgb_array\")\n",
        "env.reset()\n",
        "\n",
        "n_wins = 0\n",
        "for episode in tqdm(range(10000)):\n",
        "    obs, info = env.reset()\n",
        "    done = False\n",
        "\n",
        "    # play one episode\n",
        "    #print(\"Start:\")\n",
        "    while not done:\n",
        "        action = agent.get_action(obs)\n",
        "        #print(obs, reward, action, terminated, truncated, sep = ' || ')\n",
        "        next_obs, reward, terminated, truncated, _ = env.step(action)\n",
        "\n",
        "        done = terminated or truncated\n",
        "        obs = next_obs\n",
        "    #print(obs, reward, action, sep = ' || ')\n",
        "    if reward == 1:\n",
        "      n_wins += 1"
      ],
      "metadata": {
        "colab": {
          "base_uri": "https://localhost:8080/"
        },
        "id": "M3T7mM-_-0ya",
        "outputId": "cb9f2012-462d-488e-ad10-65fdb6a5c78a"
      },
      "id": "M3T7mM-_-0ya",
      "execution_count": null,
      "outputs": [
        {
          "output_type": "stream",
          "name": "stderr",
          "text": [
            "100%|██████████| 10000/10000 [00:02<00:00, 4613.79it/s]\n"
          ]
        }
      ]
    },
    {
      "cell_type": "code",
      "source": [
        "print(n_wins/10000)"
      ],
      "metadata": {
        "colab": {
          "base_uri": "https://localhost:8080/"
        },
        "id": "X9Qi3HU__Yyh",
        "outputId": "fa072641-996b-454e-bd94-e64d3bef5316"
      },
      "id": "X9Qi3HU__Yyh",
      "execution_count": null,
      "outputs": [
        {
          "output_type": "stream",
          "name": "stdout",
          "text": [
            "0.2832\n"
          ]
        }
      ]
    },
    {
      "cell_type": "markdown",
      "id": "3e2956c0",
      "metadata": {
        "id": "3e2956c0"
      },
      "source": [
        "<p class=\"task\" id=\"2\"></p>\n",
        "\n",
        "2\\. Создайте окружение `Blackjack-v1`. Предложите стратегию, которая позволит, в среднем, выигрывать чаще, чем случайный выбор действия. Реализуйте эту стратегию и сыграйте `N=10000` игр, выбирая действие согласно этой стратегии. Посчитайте и выведите на экран долю выигранных игр.\n",
        "\n",
        "- [ ] Проверено на семинаре"
      ]
    },
    {
      "cell_type": "code",
      "source": [
        "\"\"\"Стратегия заключается в том, чтобы Stick'ать, если сумма игрока больше 17\"\"\""
      ],
      "metadata": {
        "colab": {
          "base_uri": "https://localhost:8080/",
          "height": 36
        },
        "id": "-moClLJRTOCl",
        "outputId": "a5a99cde-c914-45ca-b616-8ae67438b560"
      },
      "id": "-moClLJRTOCl",
      "execution_count": null,
      "outputs": [
        {
          "output_type": "execute_result",
          "data": {
            "text/plain": [
              "\"Стратегия заключается в том, чтобы Stick'ать, если сумма игрока больше 17\""
            ],
            "application/vnd.google.colaboratory.intrinsic+json": {
              "type": "string"
            }
          },
          "metadata": {},
          "execution_count": 16
        }
      ]
    },
    {
      "cell_type": "code",
      "source": [
        "class BlackjackAgentChance:\n",
        "\n",
        "    def get_action(self, obs: tuple[int, int, bool]) -> int:\n",
        "\n",
        "        if obs[0] < 17:\n",
        "          return 1\n",
        "        else:\n",
        "          return 0"
      ],
      "metadata": {
        "id": "iRGWefVcA3am"
      },
      "id": "iRGWefVcA3am",
      "execution_count": null,
      "outputs": []
    },
    {
      "cell_type": "code",
      "source": [
        "env = \"Blackjack-v1\"\n",
        "\n",
        "agent = BlackjackAgentChance(\n",
        ")\n",
        "\n",
        "env = gym.make(env_name, natural=False, render_mode=\"rgb_array\")\n",
        "env.reset()\n",
        "\n",
        "n_wins = 0\n",
        "for episode in tqdm(range(10000)):\n",
        "    obs, info = env.reset()\n",
        "    done = False\n",
        "\n",
        "    # play one episode\n",
        "    #print(\"Start:\")\n",
        "    while not done:\n",
        "        action = agent.get_action(obs)\n",
        "        #print(obs, reward, action, terminated, truncated, sep = ' || ')\n",
        "        next_obs, reward, terminated, truncated, _ = env.step(action)\n",
        "\n",
        "        done = terminated or truncated\n",
        "        obs = next_obs\n",
        "    #print(obs, reward, action, sep = ' || ')\n",
        "    if reward == 1:\n",
        "      n_wins += 1"
      ],
      "metadata": {
        "colab": {
          "base_uri": "https://localhost:8080/"
        },
        "id": "0J8sjsxt9ZSu",
        "outputId": "de74754d-8b67-4c84-d41d-9d38fc43407e"
      },
      "id": "0J8sjsxt9ZSu",
      "execution_count": null,
      "outputs": [
        {
          "output_type": "stream",
          "name": "stderr",
          "text": [
            "100%|██████████| 10000/10000 [00:04<00:00, 2065.33it/s]\n"
          ]
        }
      ]
    },
    {
      "cell_type": "code",
      "source": [
        "print(n_wins/10000)"
      ],
      "metadata": {
        "colab": {
          "base_uri": "https://localhost:8080/"
        },
        "id": "HqXDRuC9SBlf",
        "outputId": "116d33a4-34f2-4725-90df-84cfe0f390c3"
      },
      "id": "HqXDRuC9SBlf",
      "execution_count": null,
      "outputs": [
        {
          "output_type": "stream",
          "name": "stdout",
          "text": [
            "0.4001\n"
          ]
        }
      ]
    },
    {
      "cell_type": "markdown",
      "id": "f2698c28",
      "metadata": {
        "id": "f2698c28"
      },
      "source": [
        "<p class=\"task\" id=\"3\"></p>\n",
        "\n",
        "3\\. Создайте окружение для игры в крестики-нолики, реализовав интерфейс `gym.Env`. Решение должно удовлетворять следующим условиям:\n",
        "* для создания пространства состояний используется `spaces.Box`;\n",
        "* для создания пространства действий используется `spaces.MultiDiscrete`;\n",
        "* игра прекращается, если:\n",
        "    - нет возможности сделать ход;\n",
        "    - игрок пытается отметить уже выбранную ячейку.\n",
        "* после каждого хода игрок получает награду:\n",
        "    - 0, если игра не закончена;\n",
        "    - 1, если игрок выиграл;\n",
        "    - -1, если игрок проиграл.\n",
        "* стратегию выбора действия для второго игрока (машины) определите самостоятельно.\n",
        "\n",
        "Стратегия поведения машины является частью окружения и должна быть реализована внутри него. Сделайте все соответствующие переменные и методы приватными (названия всех переменных начинаются с `__`), подчеркнув, что у пользователя не должно быть к ним доступа извне.\n",
        "\n",
        "Сыграйте одну игру, выбирая действия случайным образом. Выведите на экран состояние окружения после каждого хода и итоговую награду пользователя за сессию.\n",
        "\n",
        "- [ ] Проверено на семинаре"
      ]
    },
    {
      "cell_type": "code",
      "source": [
        "from gymnasium import spaces\n",
        "import logging"
      ],
      "metadata": {
        "id": "kEVI0fqkychy"
      },
      "id": "kEVI0fqkychy",
      "execution_count": null,
      "outputs": []
    },
    {
      "cell_type": "code",
      "source": [
        "LOG_FMT = logging.Formatter('%(levelname)s '\n",
        "                            '[%(filename)s:%(lineno)d] %(message)s',\n",
        "                            '%Y-%m-%d %H:%M:%S')"
      ],
      "metadata": {
        "id": "1czLwbCbcCP1"
      },
      "id": "1czLwbCbcCP1",
      "execution_count": null,
      "outputs": []
    },
    {
      "cell_type": "code",
      "source": [
        "CODE_MARK_MAP = {0: ' ', 1: 'O', 2: 'X'}\n",
        "NUM = 9\n",
        "O_REWARD = 1\n",
        "X_REWARD = -1\n",
        "NO_REWARD = 0"
      ],
      "metadata": {
        "id": "q3qhX9Hdx9oF"
      },
      "id": "q3qhX9Hdx9oF",
      "execution_count": null,
      "outputs": []
    },
    {
      "cell_type": "code",
      "source": [
        "LEFT_PAD = '  '"
      ],
      "metadata": {
        "id": "bh7mthUhbHOK"
      },
      "id": "bh7mthUhbHOK",
      "execution_count": null,
      "outputs": []
    },
    {
      "cell_type": "code",
      "source": [
        "action_space = spaces.MultiDiscrete(9)"
      ],
      "metadata": {
        "id": "yzeBgSemeOO2"
      },
      "id": "yzeBgSemeOO2",
      "execution_count": null,
      "outputs": []
    },
    {
      "cell_type": "code",
      "source": [
        "action_space.sample()"
      ],
      "metadata": {
        "colab": {
          "base_uri": "https://localhost:8080/"
        },
        "id": "xHZpks2BeQnp",
        "outputId": "345cc325-459a-4ed3-aca4-5cf84e761b98"
      },
      "id": "xHZpks2BeQnp",
      "execution_count": null,
      "outputs": [
        {
          "output_type": "execute_result",
          "data": {
            "text/plain": [
              "3"
            ]
          },
          "metadata": {},
          "execution_count": 25
        }
      ]
    },
    {
      "cell_type": "code",
      "source": [
        "\n",
        "def tomark(code):\n",
        "    return CODE_MARK_MAP[code]\n",
        "\n",
        "\n",
        "def tocode(mark):\n",
        "    return 1 if mark == 'O' else 2\n",
        "\n",
        "\n",
        "def next_mark(mark):\n",
        "    return 'X' if mark == 'O' else 'O'\n"
      ],
      "metadata": {
        "id": "5AQc4wZkzk_d"
      },
      "id": "5AQc4wZkzk_d",
      "execution_count": null,
      "outputs": []
    },
    {
      "cell_type": "code",
      "source": [
        "def check_game_status(board):\n",
        "    for t in [1, 2]:\n",
        "        for j in range(0, 9, 3):\n",
        "            if [t] * 3 == [board[i] for i in range(j, j+3)]:\n",
        "                return t\n",
        "        for j in range(0, 3):\n",
        "            if board[j] == t and board[j+3] == t and board[j+6] == t:\n",
        "                return t\n",
        "        if board[0] == t and board[4] == t and board[8] == t:\n",
        "            return t\n",
        "        if board[2] == t and board[4] == t and board[6] == t:\n",
        "            return t\n",
        "\n",
        "    for i in range(9):\n",
        "        if board[i] == 0:\n",
        "            return -1\n",
        "\n",
        "\n",
        "    return 0"
      ],
      "metadata": {
        "id": "bfNFpdgsz7Av"
      },
      "id": "bfNFpdgsz7Av",
      "execution_count": null,
      "outputs": []
    },
    {
      "cell_type": "code",
      "source": [
        "class TicTacToeEnv(gym.Env):\n",
        "\n",
        "    def __init__(self, alpha=0.02, show_number=False):\n",
        "        self.action_space = spaces.MultiDiscrete(NUM)\n",
        "        self.observation_space = spaces.Dict(\n",
        "            {\n",
        "                '0': spaces.Box(low=0, high=1, shape=(1,), dtype=np.int32),\n",
        "                '1': spaces.Box(low=0, high=1, shape=(1,), dtype=np.int32),\n",
        "                '2': spaces.Box(low=0, high=1, shape=(1,), dtype=np.int32),\n",
        "            }\n",
        "        )\n",
        "        self.alpha = alpha\n",
        "        self.set_start_mark('O')\n",
        "        self.show_number = show_number\n",
        "        self.reset()\n",
        "\n",
        "    def set_start_mark(self, mark):\n",
        "        self.start_mark = mark\n",
        "\n",
        "    def reset(self):\n",
        "        self.board = [0] * NUM\n",
        "        self.mark = self.start_mark\n",
        "        self.done = False\n",
        "        self.done_actions = [1, 2, 3, 4, 5, 6, 7, 8, 9]\n",
        "        self.bad_render = False\n",
        "        return self._get_obs()\n",
        "\n",
        "    def step(self, action):\n",
        "        #assert\n",
        "        #assert self.action_space.contains(action)\n",
        "        if self.done_actions[action] == 0:\n",
        "          self.bad_render = True\n",
        "          return self._get_obs(), 0, False, None\n",
        "        else:\n",
        "          self.bad_render = False\n",
        "          self.done_actions[action] = 0\n",
        "        loc = action\n",
        "        if self.done:\n",
        "            return self._get_obs(), 0, True, None\n",
        "\n",
        "        reward = NO_REWARD\n",
        "        self.board[loc] = tocode(self.mark)\n",
        "        status = check_game_status(self.board)\n",
        "        logging.debug(\"check_game_status board {} mark '{}'\"\n",
        "                      \" status {}\".format(self.board, self.mark, status))\n",
        "        if status >= 0:\n",
        "            self.done = True\n",
        "            if status in [1, 2]:\n",
        "                reward = O_REWARD if self.mark == 'O' else X_REWARD\n",
        "\n",
        "\n",
        "        self.mark = next_mark(self.mark)\n",
        "        return self._get_obs(), reward, self.done, None\n",
        "\n",
        "    def _get_obs(self):\n",
        "        return tuple(self.board), self.mark#, self.done_actions\n",
        "\n",
        "    def render(self, mode='human', close=False):\n",
        "        close = self.bad_render\n",
        "        if close:\n",
        "            return\n",
        "        if mode == 'human':\n",
        "            self._show_board(print)\n",
        "            print('')\n",
        "        else:\n",
        "            self._show_board(logging.info)\n",
        "            logging.info('')\n",
        "\n",
        "    def _show_board(self, showfn):\n",
        "        for j in range(0, 9, 3):\n",
        "            def mark(i):\n",
        "                return tomark(self.board[i]) if not self.show_number or\\\n",
        "                    self.board[i] != 0 else str(i+1)\n",
        "            showfn(LEFT_PAD + '|'.join([mark(i) for i in range(j, j+3)]))\n",
        "            if j < 6:\n",
        "                showfn(LEFT_PAD + '-----')"
      ],
      "metadata": {
        "id": "ddVVySEeYjSp"
      },
      "id": "ddVVySEeYjSp",
      "execution_count": null,
      "outputs": []
    },
    {
      "cell_type": "code",
      "source": [
        "game = TicTacToeEnv()"
      ],
      "metadata": {
        "id": "JsAURhEfaQbV"
      },
      "id": "JsAURhEfaQbV",
      "execution_count": null,
      "outputs": []
    },
    {
      "cell_type": "code",
      "source": [
        "import logging"
      ],
      "metadata": {
        "id": "3rKSUiVqa-gW"
      },
      "id": "3rKSUiVqa-gW",
      "execution_count": null,
      "outputs": []
    },
    {
      "cell_type": "code",
      "source": [
        "game.reset()"
      ],
      "metadata": {
        "colab": {
          "base_uri": "https://localhost:8080/"
        },
        "id": "TkF3ldXVuVN6",
        "outputId": "fe2ac698-1e4e-4d57-ca6b-c510f9049b4b"
      },
      "id": "TkF3ldXVuVN6",
      "execution_count": null,
      "outputs": [
        {
          "output_type": "execute_result",
          "data": {
            "text/plain": [
              "((0, 0, 0, 0, 0, 0, 0, 0, 0), 'O')"
            ]
          },
          "metadata": {},
          "execution_count": 31
        }
      ]
    },
    {
      "cell_type": "code",
      "source": [
        "done = False\n",
        "while not done:\n",
        "    action = game.action_space.sample()\n",
        "    observation, reward, done, info = game.step(action)\n",
        "    game.render()\n",
        "    print('Next step!', reward)"
      ],
      "metadata": {
        "colab": {
          "base_uri": "https://localhost:8080/"
        },
        "id": "_z0H8QY4aVUd",
        "outputId": "af2ed321-bc78-4519-a20c-ca558888ea62"
      },
      "id": "_z0H8QY4aVUd",
      "execution_count": null,
      "outputs": [
        {
          "output_type": "stream",
          "name": "stdout",
          "text": [
            "   | | \n",
            "  -----\n",
            "   | | \n",
            "  -----\n",
            "  O| | \n",
            "\n",
            "Next step! 0\n",
            "  X| | \n",
            "  -----\n",
            "   | | \n",
            "  -----\n",
            "  O| | \n",
            "\n",
            "Next step! 0\n",
            "  X|O| \n",
            "  -----\n",
            "   | | \n",
            "  -----\n",
            "  O| | \n",
            "\n",
            "Next step! 0\n",
            "  X|O| \n",
            "  -----\n",
            "   |X| \n",
            "  -----\n",
            "  O| | \n",
            "\n",
            "Next step! 0\n",
            "  X|O| \n",
            "  -----\n",
            "   |X| \n",
            "  -----\n",
            "  O| |O\n",
            "\n",
            "Next step! 0\n",
            "Next step! 0\n",
            "  X|O|X\n",
            "  -----\n",
            "   |X| \n",
            "  -----\n",
            "  O| |O\n",
            "\n",
            "Next step! 0\n",
            "Next step! 0\n",
            "Next step! 0\n",
            "  X|O|X\n",
            "  -----\n",
            "   |X|O\n",
            "  -----\n",
            "  O| |O\n",
            "\n",
            "Next step! 0\n",
            "Next step! 0\n",
            "Next step! 0\n",
            "Next step! 0\n",
            "Next step! 0\n",
            "  X|O|X\n",
            "  -----\n",
            "  X|X|O\n",
            "  -----\n",
            "  O| |O\n",
            "\n",
            "Next step! 0\n",
            "Next step! 0\n",
            "Next step! 0\n",
            "Next step! 0\n",
            "  X|O|X\n",
            "  -----\n",
            "  X|X|O\n",
            "  -----\n",
            "  O|O|O\n",
            "\n",
            "Next step! 1\n"
          ]
        }
      ]
    },
    {
      "cell_type": "code",
      "source": [
        "game.reset()"
      ],
      "metadata": {
        "colab": {
          "base_uri": "https://localhost:8080/"
        },
        "id": "dN3PU9iKsPMp",
        "outputId": "0dfc34fc-4a48-44e5-fbb4-2b8b4614634e"
      },
      "id": "dN3PU9iKsPMp",
      "execution_count": null,
      "outputs": [
        {
          "output_type": "execute_result",
          "data": {
            "text/plain": [
              "((0, 0, 0, 0, 0, 0, 0, 0, 0), 'O')"
            ]
          },
          "metadata": {},
          "execution_count": 33
        }
      ]
    },
    {
      "cell_type": "code",
      "source": [
        "n_wins = 0\n",
        "for episode in tqdm(range(1000)):\n",
        "    obs = game.reset()\n",
        "    done = False\n",
        "    while not done:\n",
        "        action = game.action_space.sample()\n",
        "        next_obs, reward, done, info = game.step(action)\n",
        "        #game.render()\n",
        "    if reward == 1:\n",
        "      n_wins += 1"
      ],
      "metadata": {
        "colab": {
          "base_uri": "https://localhost:8080/"
        },
        "id": "0c1NSHlEsZ8r",
        "outputId": "133e1de0-bc27-45b7-9e6e-1808bcee2b93"
      },
      "id": "0c1NSHlEsZ8r",
      "execution_count": null,
      "outputs": [
        {
          "output_type": "stream",
          "name": "stderr",
          "text": [
            "100%|██████████| 1000/1000 [00:00<00:00, 4053.28it/s]\n"
          ]
        }
      ]
    },
    {
      "cell_type": "code",
      "source": [
        "print(n_wins/1000)"
      ],
      "metadata": {
        "colab": {
          "base_uri": "https://localhost:8080/"
        },
        "id": "nNiMpPf6twVp",
        "outputId": "4ecbe5d1-8c78-4f6b-e143-ef9c385669d7"
      },
      "id": "nNiMpPf6twVp",
      "execution_count": null,
      "outputs": [
        {
          "output_type": "stream",
          "name": "stdout",
          "text": [
            "0.581\n"
          ]
        }
      ]
    },
    {
      "cell_type": "markdown",
      "id": "cdcd8fa6",
      "metadata": {
        "id": "cdcd8fa6"
      },
      "source": [
        "<p class=\"task\" id=\"4\"></p>\n",
        "\n",
        "4\\. Предложите стратегию (в виде алгоритма без использования методов машинного обучения), которая позволит, в среднем, выигрывать в крестики-нолики чаще, чем случайный выбор действия. Реализуйте эту стратегию и сыграйте игру, выбирая действия согласно этой стратегии. Выведите на экран состояние окружения после каждого хода и итоговую награду пользователя за сессию.\n",
        "\n",
        "- [ ] Проверено на семинаре"
      ]
    },
    {
      "cell_type": "code",
      "source": [
        "#Стратегрия проста - первый нолик ставим в серединке\n",
        "type(game.action_space.sample())"
      ],
      "metadata": {
        "colab": {
          "base_uri": "https://localhost:8080/"
        },
        "id": "JVcE8H8UrMLX",
        "outputId": "33f72857-9998-47d6-d198-6fc6436d6053"
      },
      "id": "JVcE8H8UrMLX",
      "execution_count": null,
      "outputs": [
        {
          "output_type": "execute_result",
          "data": {
            "text/plain": [
              "numpy.int64"
            ]
          },
          "metadata": {},
          "execution_count": 36
        }
      ]
    },
    {
      "cell_type": "code",
      "source": [
        "class TicTacToeStategy:\n",
        "\n",
        "    def get_action(self, obs) -> int:\n",
        "\n",
        "        if obs[0][4] == 0:\n",
        "          return 4\n",
        "        else:\n",
        "          return game.action_space.sample()\n"
      ],
      "metadata": {
        "id": "2x8zJebGrzz2"
      },
      "id": "2x8zJebGrzz2",
      "execution_count": null,
      "outputs": []
    },
    {
      "cell_type": "code",
      "source": [
        "game.reset()"
      ],
      "metadata": {
        "colab": {
          "base_uri": "https://localhost:8080/"
        },
        "id": "GcdXFXJEIPM2",
        "outputId": "7801abd7-e126-40b2-f7b0-85e75f749c4e"
      },
      "id": "GcdXFXJEIPM2",
      "execution_count": null,
      "outputs": [
        {
          "output_type": "execute_result",
          "data": {
            "text/plain": [
              "((0, 0, 0, 0, 0, 0, 0, 0, 0), 'O')"
            ]
          },
          "metadata": {},
          "execution_count": 38
        }
      ]
    },
    {
      "cell_type": "code",
      "source": [
        "#Стратегия в коде\n",
        "n_wins = 0\n",
        "for episode in tqdm(range(1000)):\n",
        "    obs = game.reset()\n",
        "    done = False\n",
        "    while not done:\n",
        "        if obs[0][4] == 0:\n",
        "          action = 4\n",
        "        else:\n",
        "          action = game.action_space.sample()\n",
        "        next_obs, reward, done, info = game.step(action)\n",
        "        obs = next_obs\n",
        "    if reward == 1:\n",
        "      n_wins += 1"
      ],
      "metadata": {
        "colab": {
          "base_uri": "https://localhost:8080/"
        },
        "id": "jFctK5J4HHq9",
        "outputId": "dfc56584-bcdd-414a-d08e-bf0c4fe9cafa"
      },
      "id": "jFctK5J4HHq9",
      "execution_count": null,
      "outputs": [
        {
          "output_type": "stream",
          "name": "stderr",
          "text": [
            "100%|██████████| 1000/1000 [00:00<00:00, 5298.96it/s]\n"
          ]
        }
      ]
    },
    {
      "cell_type": "code",
      "source": [
        "print(n_wins/1000)"
      ],
      "metadata": {
        "colab": {
          "base_uri": "https://localhost:8080/"
        },
        "id": "agTWE76URXqi",
        "outputId": "7c43f7c1-f14a-43ae-cb59-ff9cbfb15237"
      },
      "id": "agTWE76URXqi",
      "execution_count": null,
      "outputs": [
        {
          "output_type": "stream",
          "name": "stdout",
          "text": [
            "0.698\n"
          ]
        }
      ]
    },
    {
      "cell_type": "code",
      "source": [
        "#Стратегия в классе\n",
        "n_wins = 0\n",
        "agent = TicTacToeStategy\n",
        "for episode in tqdm(range(1000)):\n",
        "    obs= game.reset()\n",
        "    done = False\n",
        "    #print(obs, info)\n",
        "    while not done:\n",
        "        action = agent.get_action(_, obs)\n",
        "        next_obs, reward, done, info = game.step(action)\n",
        "        obs = next_obs\n",
        "        #game.render()\n",
        "    if reward == 1:\n",
        "      n_wins += 1"
      ],
      "metadata": {
        "colab": {
          "base_uri": "https://localhost:8080/"
        },
        "id": "1_CCMkuTwCsR",
        "outputId": "f2a87cf1-3eec-4009-81fe-6a830daeff9c"
      },
      "id": "1_CCMkuTwCsR",
      "execution_count": null,
      "outputs": [
        {
          "output_type": "stream",
          "name": "stderr",
          "text": [
            "100%|██████████| 1000/1000 [00:00<00:00, 4718.32it/s]\n"
          ]
        }
      ]
    },
    {
      "cell_type": "code",
      "source": [
        "print(n_wins/1000)"
      ],
      "metadata": {
        "colab": {
          "base_uri": "https://localhost:8080/"
        },
        "id": "_4KWrlWkwPex",
        "outputId": "5a327885-1414-41ac-b2b0-3763b68c600b"
      },
      "id": "_4KWrlWkwPex",
      "execution_count": null,
      "outputs": [
        {
          "output_type": "stream",
          "name": "stdout",
          "text": [
            "0.683\n"
          ]
        }
      ]
    },
    {
      "cell_type": "markdown",
      "id": "0992c961",
      "metadata": {
        "id": "0992c961"
      },
      "source": [
        "<p class=\"task\" id=\"5\"></p>\n",
        "\n",
        "5\\. Создайте окружение `MountainCar-v0`. Проиграйте 10 эпизодов и сохраните на диск файл с записью каждого пятого эпизода. Для записи видео воспользуйтесь обёрткой `RecordVideo`. Вставьте скриншот, на котором видно, что файлы были созданы.\n",
        "\n",
        "- [ ] Проверено на семинаре"
      ]
    },
    {
      "cell_type": "code",
      "source": [
        "env_name = \"MountainCar-v0\"\n",
        "\n",
        "env = gym.make(env_name, render_mode=\"rgb_array\")\n",
        "env.reset()\n",
        "\n",
        "plt.imshow(env.render())  # type: ignore\n",
        "print(\"Observation space:\", env.observation_space)\n",
        "print(\"Action space:\", env.action_space)"
      ],
      "metadata": {
        "colab": {
          "base_uri": "https://localhost:8080/",
          "height": 431
        },
        "id": "BIfR10feS9I-",
        "outputId": "a7b82c9c-4b54-4cab-8186-7476b11ed924"
      },
      "id": "BIfR10feS9I-",
      "execution_count": null,
      "outputs": [
        {
          "output_type": "stream",
          "name": "stdout",
          "text": [
            "Observation space: Box([-1.2  -0.07], [0.6  0.07], (2,), float32)\n",
            "Action space: Discrete(3)\n"
          ]
        },
        {
          "output_type": "display_data",
          "data": {
            "text/plain": [
              "<Figure size 640x480 with 1 Axes>"
            ],
            "image/png": "[encoded data removed]"
          },
          "metadata": {}
        }
      ]
    },
    {
      "cell_type": "code",
      "source": [
        "env = gym.wrappers.RecordVideo(env, 'video', episode_trigger = lambda x: x % 5 == 0)"
      ],
      "metadata": {
        "id": "U9RpzmSQNp_b"
      },
      "id": "U9RpzmSQNp_b",
      "execution_count": null,
      "outputs": []
    },
    {
      "cell_type": "code",
      "source": [
        "for episode in tqdm(range(10)):\n",
        "    env.reset()\n",
        "    is_done = False\n",
        "    #print(obs, info)\n",
        "    while not is_done:\n",
        "        action = env.action_space.sample()\n",
        "        state, reward, terminated, truncated, _ = env.step(action)\n",
        "        is_done = terminated or truncated"
      ],
      "metadata": {
        "colab": {
          "base_uri": "https://localhost:8080/"
        },
        "id": "csMsh70-O5F2",
        "outputId": "c2e2f8a4-6acb-4ae7-d0cd-b1d218323dad"
      },
      "id": "csMsh70-O5F2",
      "execution_count": null,
      "outputs": [
        {
          "output_type": "stream",
          "name": "stderr",
          "text": [
            "  0%|          | 0/10 [00:00<?, ?it/s]"
          ]
        },
        {
          "output_type": "stream",
          "name": "stdout",
          "text": [
            "Moviepy - Building video /content/video/rl-video-episode-5.mp4.\n",
            "Moviepy - Writing video /content/video/rl-video-episode-5.mp4\n",
            "\n"
          ]
        },
        {
          "output_type": "stream",
          "name": "stderr",
          "text": [
            "\n",
            "t:   0%|          | 0/201 [00:00<?, ?it/s, now=None]\u001b[A\n",
            "t:  12%|█▏        | 25/201 [00:00<00:00, 245.11it/s, now=None]\u001b[A\n",
            "t:  25%|██▍       | 50/201 [00:00<00:00, 162.93it/s, now=None]\u001b[A\n",
            "t:  34%|███▍      | 68/201 [00:00<00:01, 127.93it/s, now=None]\u001b[A\n",
            "t:  41%|████▏     | 83/201 [00:00<00:00, 119.29it/s, now=None]\u001b[A\n",
            "t:  48%|████▊     | 96/201 [00:00<00:01, 96.66it/s, now=None] \u001b[A\n",
            "t:  53%|█████▎    | 107/201 [00:01<00:01, 84.95it/s, now=None]\u001b[A\n",
            "t:  58%|█████▊    | 116/201 [00:01<00:01, 63.13it/s, now=None]\u001b[A\n",
            "t:  62%|██████▏   | 124/201 [00:01<00:01, 64.74it/s, now=None]\u001b[A\n",
            "t:  66%|██████▌   | 133/201 [00:01<00:00, 69.89it/s, now=None]\u001b[A\n",
            "t:  70%|███████   | 141/201 [00:01<00:00, 69.39it/s, now=None]\u001b[A\n",
            "t:  75%|███████▍  | 150/201 [00:01<00:00, 68.15it/s, now=None]\u001b[A\n",
            "t:  79%|███████▊  | 158/201 [00:01<00:00, 64.80it/s, now=None]\u001b[A\n",
            "t:  82%|████████▏ | 165/201 [00:02<00:00, 61.80it/s, now=None]\u001b[A\n",
            "t:  86%|████████▌ | 173/201 [00:02<00:00, 63.03it/s, now=None]\u001b[A\n",
            "t:  90%|█████████ | 181/201 [00:02<00:00, 66.91it/s, now=None]\u001b[A\n",
            "t:  94%|█████████▍| 189/201 [00:02<00:00, 66.41it/s, now=None]\u001b[A\n",
            " 40%|████      | 4/10 [00:03<00:05,  1.14it/s]"
          ]
        },
        {
          "output_type": "stream",
          "name": "stdout",
          "text": [
            "Moviepy - Done !\n",
            "Moviepy - video ready /content/video/rl-video-episode-5.mp4\n"
          ]
        },
        {
          "output_type": "stream",
          "name": "stderr",
          "text": [
            " 40%|████      | 4/10 [00:04<00:05,  1.14it/s]"
          ]
        },
        {
          "output_type": "stream",
          "name": "stdout",
          "text": [
            "Moviepy - Building video /content/video/rl-video-episode-10.mp4.\n",
            "Moviepy - Writing video /content/video/rl-video-episode-10.mp4\n",
            "\n"
          ]
        },
        {
          "output_type": "stream",
          "name": "stderr",
          "text": [
            "\n",
            "t:   0%|          | 0/201 [00:00<?, ?it/s, now=None]\u001b[A\n",
            "t:  11%|█▏        | 23/201 [00:00<00:00, 222.41it/s, now=None]\u001b[A\n",
            "t:  23%|██▎       | 46/201 [00:00<00:00, 170.86it/s, now=None]\u001b[A\n",
            "t:  32%|███▏      | 64/201 [00:00<00:01, 133.08it/s, now=None]\u001b[A\n",
            "t:  39%|███▉      | 79/201 [00:00<00:00, 132.89it/s, now=None]\u001b[A\n",
            "t:  48%|████▊     | 96/201 [00:00<00:00, 141.16it/s, now=None]\u001b[A\n",
            "t:  55%|█████▌    | 111/201 [00:00<00:00, 137.33it/s, now=None]\u001b[A\n",
            "t:  63%|██████▎   | 126/201 [00:00<00:00, 136.26it/s, now=None]\u001b[A\n",
            "t:  70%|██████▉   | 140/201 [00:00<00:00, 135.67it/s, now=None]\u001b[A\n",
            "t:  77%|███████▋  | 154/201 [00:01<00:00, 133.82it/s, now=None]\u001b[A\n",
            "t:  84%|████████▎ | 168/201 [00:01<00:00, 131.00it/s, now=None]\u001b[A\n",
            "t:  91%|█████████ | 182/201 [00:01<00:00, 130.63it/s, now=None]\u001b[A\n",
            "t:  98%|█████████▊| 196/201 [00:01<00:00, 128.54it/s, now=None]\u001b[A\n",
            "100%|██████████| 10/10 [00:06<00:00,  1.61it/s]"
          ]
        },
        {
          "output_type": "stream",
          "name": "stdout",
          "text": [
            "Moviepy - Done !\n",
            "Moviepy - video ready /content/video/rl-video-episode-10.mp4\n"
          ]
        },
        {
          "output_type": "stream",
          "name": "stderr",
          "text": [
            "\n"
          ]
        }
      ]
    },
    {
      "cell_type": "markdown",
      "source": [
        "![image.png](data:image/png;base64,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)"
      ],
      "metadata": {
        "id": "SUqUoiGMRaHj"
      },
      "id": "SUqUoiGMRaHj"
    },
    {
      "cell_type": "markdown",
      "id": "66caa919",
      "metadata": {
        "id": "66caa919"
      },
      "source": [
        "## Обратная связь\n",
        "- [ ] Хочу получить обратную связь по решению"
      ]
    },
    {
      "cell_type": "code",
      "source": [
        "phrase = \"Моя прелесть\""
      ],
      "metadata": {
        "id": "vhIeUp_nCDv1"
      },
      "id": "vhIeUp_nCDv1",
      "execution_count": null,
      "outputs": []
    },
    {
      "cell_type": "code",
      "source": [
        "for i in range(len(phrase)-1, -1, -1):\n",
        "  print(phrase[i], end=\"\")"
      ],
      "metadata": {
        "colab": {
          "base_uri": "https://localhost:8080/"
        },
        "id": "htTdyA6kmGjM",
        "outputId": "85f406df-5016-4f8f-9a34-a98c08455f52"
      },
      "id": "htTdyA6kmGjM",
      "execution_count": null,
      "outputs": [
        {
          "output_type": "stream",
          "name": "stdout",
          "text": [
            "ьтселерп яоМ"
          ]
        }
      ]
    }
  ],
  "metadata": {
    "kernelspec": {
      "display_name": "Python 3 (ipykernel)",
      "language": "python",
      "name": "python3"
    },
    "language_info": {
      "codemirror_mode": {
        "name": "ipython",
        "version": 3
      },
      "file_extension": ".py",
      "mimetype": "text/x-python",
      "name": "python",
      "nbconvert_exporter": "python",
      "pygments_lexer": "ipython3",
      "version": "3.9.18"
    },
    "colab": {
      "provenance": []
    }
  },
  "nbformat": 4,
  "nbformat_minor": 5
}